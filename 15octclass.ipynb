{
  "nbformat": 4,
  "nbformat_minor": 0,
  "metadata": {
    "colab": {
      "provenance": []
    },
    "kernelspec": {
      "name": "python3",
      "display_name": "Python 3"
    },
    "language_info": {
      "name": "python"
    }
  },
  "cells": [
    {
      "cell_type": "code",
      "execution_count": 1,
      "metadata": {
        "colab": {
          "base_uri": "https://localhost:8080/"
        },
        "id": "QVdBZJkNow_Z",
        "outputId": "d1dde93d-3c5e-4a64-d183-4a4227a422fa"
      },
      "outputs": [
        {
          "output_type": "stream",
          "name": "stdout",
          "text": [
            "<class 'int'>\n",
            "140153049121296\n"
          ]
        }
      ],
      "source": [
        "a=10\n",
        "print(type(a))\n",
        "print(id(a))"
      ]
    },
    {
      "cell_type": "code",
      "source": [
        "num=a\n",
        "print(id(num))\n",
        "num=20\n",
        "print(id(num))"
      ],
      "metadata": {
        "colab": {
          "base_uri": "https://localhost:8080/"
        },
        "id": "AxSDrB_jsZbP",
        "outputId": "1bc760c2-fe6e-4335-f101-7a16df2c263d"
      },
      "execution_count": 3,
      "outputs": [
        {
          "output_type": "stream",
          "name": "stdout",
          "text": [
            "140153049121296\n",
            "140153049121616\n"
          ]
        }
      ]
    },
    {
      "cell_type": "code",
      "source": [
        "#patterns\n",
        "\n",
        "for row in range(1,5):\n",
        "  for col in range (1,5):\n",
        "    print(row,\"-\",col)"
      ],
      "metadata": {
        "colab": {
          "base_uri": "https://localhost:8080/"
        },
        "id": "Gz76G_Ryso8X",
        "outputId": "671145de-c56e-4ae2-c485-58d177c12f6a"
      },
      "execution_count": 4,
      "outputs": [
        {
          "output_type": "stream",
          "name": "stdout",
          "text": [
            "1 - 1\n",
            "1 - 2\n",
            "1 - 3\n",
            "1 - 4\n",
            "2 - 1\n",
            "2 - 2\n",
            "2 - 3\n",
            "2 - 4\n",
            "3 - 1\n",
            "3 - 2\n",
            "3 - 3\n",
            "3 - 4\n",
            "4 - 1\n",
            "4 - 2\n",
            "4 - 3\n",
            "4 - 4\n"
          ]
        }
      ]
    },
    {
      "cell_type": "code",
      "source": [
        "#patterns\n",
        "\n",
        "for row in range(1,5):\n",
        "  for col in range (1,5):\n",
        "    print(\"*\", end=\" \")\n",
        "  print()"
      ],
      "metadata": {
        "colab": {
          "base_uri": "https://localhost:8080/"
        },
        "id": "HnC0OKKsuqsX",
        "outputId": "f6821dbd-dee5-4a8d-eace-3da67f636966"
      },
      "execution_count": 8,
      "outputs": [
        {
          "output_type": "stream",
          "name": "stdout",
          "text": [
            "* * * * \n",
            "* * * * \n",
            "* * * * \n",
            "* * * * \n"
          ]
        }
      ]
    },
    {
      "cell_type": "code",
      "source": [],
      "metadata": {
        "id": "LZd-tafVu0f0"
      },
      "execution_count": null,
      "outputs": []
    },
    {
      "cell_type": "code",
      "source": [
        "for row in range (1,5):\n",
        "  for col in range(1, row+1):\n",
        "    print(\"*\", end= \" \")\n",
        "  print()"
      ],
      "metadata": {
        "colab": {
          "base_uri": "https://localhost:8080/"
        },
        "id": "dJJgTspvvmmG",
        "outputId": "55566ebd-1850-4117-dee9-61aa2d1fed58"
      },
      "execution_count": 9,
      "outputs": [
        {
          "output_type": "stream",
          "name": "stdout",
          "text": [
            "* \n",
            "* * \n",
            "* * * \n",
            "* * * * \n"
          ]
        }
      ]
    },
    {
      "cell_type": "code",
      "source": [
        "for row in range (1,5):\n",
        "  for col in range(1, row+1):\n",
        "    print(\"1\", end= \" \")\n",
        "  print()"
      ],
      "metadata": {
        "colab": {
          "base_uri": "https://localhost:8080/"
        },
        "id": "83io_AMAwJQ0",
        "outputId": "baaae8cf-a59f-4496-9276-e8188c667f91"
      },
      "execution_count": 10,
      "outputs": [
        {
          "output_type": "stream",
          "name": "stdout",
          "text": [
            "1 \n",
            "1 1 \n",
            "1 1 1 \n",
            "1 1 1 1 \n"
          ]
        }
      ]
    },
    {
      "cell_type": "code",
      "source": [
        "#patterns\n",
        "\n",
        "for row in range(1,5):\n",
        "  for col in range (1,5):\n",
        "    print(row, end=\" \")\n",
        "  print()"
      ],
      "metadata": {
        "colab": {
          "base_uri": "https://localhost:8080/"
        },
        "id": "L6jWWoXYwdYt",
        "outputId": "154bba33-3f41-4103-a07c-1362a551546b"
      },
      "execution_count": 12,
      "outputs": [
        {
          "output_type": "stream",
          "name": "stdout",
          "text": [
            "1 1 1 1 \n",
            "2 2 2 2 \n",
            "3 3 3 3 \n",
            "4 4 4 4 \n"
          ]
        }
      ]
    },
    {
      "cell_type": "code",
      "source": [
        "#patterns\n",
        "\n",
        "for row in range(1,3):\n",
        "  for col in range (10,14):\n",
        "    print(col, end=\" \")\n",
        "  print()"
      ],
      "metadata": {
        "colab": {
          "base_uri": "https://localhost:8080/"
        },
        "id": "uBXiEw6-wlgz",
        "outputId": "b2e99401-6bff-4ec5-d9f5-28571ddff159"
      },
      "execution_count": 21,
      "outputs": [
        {
          "output_type": "stream",
          "name": "stdout",
          "text": [
            "10 11 12 13 \n",
            "10 11 12 13 \n"
          ]
        }
      ]
    },
    {
      "cell_type": "code",
      "source": [
        "i=1\n",
        "for row in range (1,5):\n",
        "  for col in range(1, row+1):\n",
        "    print(i, end= \" \")\n",
        "    i=i+1\n",
        "  print()"
      ],
      "metadata": {
        "colab": {
          "base_uri": "https://localhost:8080/"
        },
        "id": "b8LROw0Jw1gX",
        "outputId": "499aad85-5af0-452f-9ee2-8f16088eaacf"
      },
      "execution_count": 25,
      "outputs": [
        {
          "output_type": "stream",
          "name": "stdout",
          "text": [
            "1 \n",
            "2 3 \n",
            "4 5 6 \n",
            "7 8 9 10 \n"
          ]
        }
      ]
    },
    {
      "cell_type": "code",
      "source": [
        "for row in range (1,5):\n",
        "  for col in range(5,row,-1):\n",
        "    print(\"*\", end= \" \")\n",
        "  print()"
      ],
      "metadata": {
        "colab": {
          "base_uri": "https://localhost:8080/"
        },
        "id": "A_Oq3d4JxCYa",
        "outputId": "ac9c4398-c208-4ec5-92e4-7a6361959e2d"
      },
      "execution_count": 31,
      "outputs": [
        {
          "output_type": "stream",
          "name": "stdout",
          "text": [
            "* * * * \n",
            "* * * \n",
            "* * \n",
            "* \n"
          ]
        }
      ]
    },
    {
      "cell_type": "code",
      "source": [],
      "metadata": {
        "id": "HRME28NJzffb"
      },
      "execution_count": null,
      "outputs": []
    },
    {
      "cell_type": "code",
      "source": [
        "for row in range (1,5):\n",
        "  for col in range(row,5):\n",
        "    print(\"*\", end= \" \")\n",
        "  print()"
      ],
      "metadata": {
        "colab": {
          "base_uri": "https://localhost:8080/"
        },
        "outputId": "4839854c-5756-46d1-fd2c-deac82041cbb",
        "id": "MtgBHpnrzfuq"
      },
      "execution_count": 32,
      "outputs": [
        {
          "output_type": "stream",
          "name": "stdout",
          "text": [
            "* * * * \n",
            "* * * \n",
            "* * \n",
            "* \n"
          ]
        }
      ]
    },
    {
      "cell_type": "code",
      "source": [
        "for row in range (1,5):\n",
        "  for col in range(row,5):\n",
        "    print(5-row, end= \" \")\n",
        "  print()"
      ],
      "metadata": {
        "colab": {
          "base_uri": "https://localhost:8080/"
        },
        "id": "FA4w6e4T0GbS",
        "outputId": "8bb54d1d-b6a0-45b8-ea9a-0225b30d4c73"
      },
      "execution_count": 34,
      "outputs": [
        {
          "output_type": "stream",
          "name": "stdout",
          "text": [
            "4 4 4 4 \n",
            "3 3 3 \n",
            "2 2 \n",
            "1 \n"
          ]
        }
      ]
    },
    {
      "cell_type": "code",
      "source": [
        "#4\n",
        "i=1\n",
        "for row in range (1,5):\n",
        "  for col in range(row,5):\n",
        "    print(i, end=\" \")\n",
        "    i+=1\n",
        "  print()"
      ],
      "metadata": {
        "colab": {
          "base_uri": "https://localhost:8080/"
        },
        "id": "sVk6A9-X0RN1",
        "outputId": "49146213-018d-4a20-93a9-fe504bcb208a"
      },
      "execution_count": 56,
      "outputs": [
        {
          "output_type": "stream",
          "name": "stdout",
          "text": [
            "1 2 3 4 \n",
            "5 6 7 \n",
            "8 9 \n",
            "10 \n"
          ]
        }
      ]
    },
    {
      "cell_type": "code",
      "source": [
        "#2\n",
        "for row in range (4,0,-1):\n",
        "  for col in range(1,row+1):\n",
        "    print(col, end= \" \")\n",
        "  print()"
      ],
      "metadata": {
        "colab": {
          "base_uri": "https://localhost:8080/"
        },
        "id": "bOG4rJDU1QLw",
        "outputId": "1df30896-a997-4ccd-b2aa-17c764271d32"
      },
      "execution_count": 58,
      "outputs": [
        {
          "output_type": "stream",
          "name": "stdout",
          "text": [
            "1 2 3 4 \n",
            "1 2 3 \n",
            "1 2 \n",
            "1 \n"
          ]
        }
      ]
    },
    {
      "cell_type": "code",
      "source": [
        "#3\n",
        "for row in range (10,6,-1):\n",
        "  for col in range(7,row+1):\n",
        "    print(col, end= \" \")\n",
        "  print()\n"
      ],
      "metadata": {
        "colab": {
          "base_uri": "https://localhost:8080/"
        },
        "id": "h8Iyt8f22VIN",
        "outputId": "569482ed-bb6d-40b9-edf8-ac35272ed789"
      },
      "execution_count": 59,
      "outputs": [
        {
          "output_type": "stream",
          "name": "stdout",
          "text": [
            "7 8 9 10 \n",
            "7 8 9 \n",
            "7 8 \n",
            "7 \n"
          ]
        }
      ]
    },
    {
      "cell_type": "code",
      "source": [
        "#5\n",
        "i=1\n",
        "for row in range (1,5):\n",
        "  for col in range(row,5):\n",
        "    print(i, end=\" \")\n",
        "    i+=1\n",
        "  print()"
      ],
      "metadata": {
        "colab": {
          "base_uri": "https://localhost:8080/"
        },
        "id": "O6ZH9qI52lfL",
        "outputId": "c61dfe1a-f670-4ed6-c488-595bc8a53788"
      },
      "execution_count": 60,
      "outputs": [
        {
          "output_type": "stream",
          "name": "stdout",
          "text": [
            "1 2 3 4 \n",
            "5 6 7 \n",
            "8 9 \n",
            "10 \n"
          ]
        }
      ]
    },
    {
      "cell_type": "code",
      "source": [
        "#ascii value loop\n",
        "\n",
        "n=4\n",
        "for row in range(1,n+1):\n",
        "  num=97\n",
        "  for n in range(row,n+1):\n",
        "    print(chr(num), end=\" \")\n",
        "    num=num+1\n",
        "  print()"
      ],
      "metadata": {
        "colab": {
          "base_uri": "https://localhost:8080/"
        },
        "id": "8QLFbW3b6agn",
        "outputId": "6c2f9fe8-355e-49e7-be01-a57f7e70bdce"
      },
      "execution_count": 62,
      "outputs": [
        {
          "output_type": "stream",
          "name": "stdout",
          "text": [
            "a b c d \n",
            "a b c \n",
            "a b \n",
            "a \n"
          ]
        }
      ]
    },
    {
      "cell_type": "code",
      "source": [
        "#ascii value loop\n",
        "\n",
        "n=4\n",
        "num=97\n",
        "for row in range(1,n+1):\n",
        "  for n in range(row,n+1):\n",
        "    print(chr(num), end=\" \")\n",
        "    num=num+1\n",
        "  print()"
      ],
      "metadata": {
        "colab": {
          "base_uri": "https://localhost:8080/"
        },
        "id": "75JbR9Vi7ZxI",
        "outputId": "098454d3-bd7a-4dd7-9f48-4dde14e86683"
      },
      "execution_count": 63,
      "outputs": [
        {
          "output_type": "stream",
          "name": "stdout",
          "text": [
            "a b c d \n",
            "e f g \n",
            "h i \n",
            "j \n"
          ]
        }
      ]
    },
    {
      "cell_type": "code",
      "source": [
        "#ascii value loop\n",
        "\n",
        "n=4\n",
        "num=20\n",
        "for row in range(1,n):\n",
        "  for n in range(row,n+1):\n",
        "    print(num, end= \" \")\n",
        "    num=num+1\n",
        "  print()"
      ],
      "metadata": {
        "colab": {
          "base_uri": "https://localhost:8080/"
        },
        "id": "dYiRJiyC7l8d",
        "outputId": "394dc655-108b-45fd-f790-e1e39b9cb4d1"
      },
      "execution_count": 66,
      "outputs": [
        {
          "output_type": "stream",
          "name": "stdout",
          "text": [
            "20 21 22 23 \n",
            "24 25 26 \n",
            "27 28 \n"
          ]
        }
      ]
    },
    {
      "cell_type": "code",
      "source": [
        "i=68\n",
        "for row in range (1,5):\n",
        "  for col in range(1, row+1):\n",
        "    print(chr(i), end= \" \")\n",
        "    i=i+1\n",
        "  print()"
      ],
      "metadata": {
        "colab": {
          "base_uri": "https://localhost:8080/"
        },
        "id": "WcRPRAzq8PLD",
        "outputId": "124c26b7-53b1-4832-808b-09edf37ca20d"
      },
      "execution_count": 67,
      "outputs": [
        {
          "output_type": "stream",
          "name": "stdout",
          "text": [
            "D \n",
            "E F \n",
            "G H I \n",
            "J K L M \n"
          ]
        }
      ]
    },
    {
      "cell_type": "code",
      "source": [
        "i=122\n",
        "for row in range (1,4):\n",
        "  for col in range(row,4):\n",
        "    print(chr(i), end= \" \")\n",
        "  i=i-1\n",
        "  print()"
      ],
      "metadata": {
        "colab": {
          "base_uri": "https://localhost:8080/"
        },
        "id": "bB0AHrXX8fvo",
        "outputId": "4011f51b-a31b-44cd-ef78-06af9a7b1d4a"
      },
      "execution_count": 72,
      "outputs": [
        {
          "output_type": "stream",
          "name": "stdout",
          "text": [
            "z z z \n",
            "y y \n",
            "x \n"
          ]
        }
      ]
    },
    {
      "cell_type": "code",
      "source": [
        "i=4\n",
        "for row in range(1,4):\n",
        "  for col in range(1,row+1):\n",
        "    print(i, end=\" \")\n",
        "    i=i+2\n",
        "  print()"
      ],
      "metadata": {
        "colab": {
          "base_uri": "https://localhost:8080/"
        },
        "id": "cu56bnMd9oFe",
        "outputId": "214ba33d-4936-4b31-d62e-e6e9d5107373"
      },
      "execution_count": 78,
      "outputs": [
        {
          "output_type": "stream",
          "name": "stdout",
          "text": [
            "4 \n",
            "6 8 \n",
            "10 12 14 \n"
          ]
        }
      ]
    },
    {
      "cell_type": "code",
      "source": [
        "i=2\n",
        "for row in range (1,4):\n",
        "  for col in range(5,row,-1):\n",
        "    print(i, end= \" \")\n",
        "    i=i*2\n",
        "  print()"
      ],
      "metadata": {
        "colab": {
          "base_uri": "https://localhost:8080/"
        },
        "id": "z8D9Lf_J_T96",
        "outputId": "730f8752-3f6e-43ba-99b3-ae6efbb672ae"
      },
      "execution_count": 86,
      "outputs": [
        {
          "output_type": "stream",
          "name": "stdout",
          "text": [
            "2 4 8 16 \n",
            "32 64 128 \n",
            "256 512 \n"
          ]
        }
      ]
    },
    {
      "cell_type": "code",
      "source": [
        "for row in range (1,4):\n",
        "  for col in range(1, row+1):\n",
        "    print(\"*\", end= \" \")\n",
        "  print()\n",
        "for row in range (1,5):\n",
        "  for col in range(5,row,-1):\n",
        "    print(\"*\", end= \" \")\n",
        "  print()"
      ],
      "metadata": {
        "colab": {
          "base_uri": "https://localhost:8080/"
        },
        "id": "MZA-wmM3-qT9",
        "outputId": "e200f845-6c30-4acc-e0af-2778567966eb"
      },
      "execution_count": 76,
      "outputs": [
        {
          "output_type": "stream",
          "name": "stdout",
          "text": [
            "* \n",
            "* * \n",
            "* * * \n",
            "* * * * \n",
            "* * * \n",
            "* * \n",
            "* \n"
          ]
        }
      ]
    },
    {
      "cell_type": "code",
      "source": [
        "for row in range(1,4):\n",
        "  for col in range(5-row,0,-1):\n",
        "    print(\"*\", end= \" \")\n",
        "  print()"
      ],
      "metadata": {
        "colab": {
          "base_uri": "https://localhost:8080/"
        },
        "id": "9Yy3rMXkAfj-",
        "outputId": "6050b98d-f9ed-4603-8b1e-cd67957b3a1d"
      },
      "execution_count": 87,
      "outputs": [
        {
          "output_type": "stream",
          "name": "stdout",
          "text": [
            "* * * * \n",
            "* * * \n",
            "* * \n"
          ]
        }
      ]
    }
  ]
}