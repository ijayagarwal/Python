{
  "nbformat": 4,
  "nbformat_minor": 0,
  "metadata": {
    "colab": {
      "provenance": []
    },
    "kernelspec": {
      "name": "python3",
      "display_name": "Python 3"
    },
    "language_info": {
      "name": "python"
    }
  },
  "cells": [
    {
      "cell_type": "code",
      "execution_count": null,
      "metadata": {
        "id": "4upKiTTKUCjI"
      },
      "outputs": [],
      "source": [
        "#Q1 Write a program that takes an integer input from the user and checks whether the number is odd or\n",
        "#even.\n",
        "number=int(input(\"enter the number:\"))\n",
        "if(number%2==0):\n",
        "  print(\"number is even\")\n",
        "else:\n",
        "  print(\"number is odd\")"
      ]
    },
    {
      "cell_type": "code",
      "source": [
        "#Q2 Write a program that takes three numbers as input and prints the largest of the three.\n",
        "x=int(input(\"enter the number :\"))\n",
        "y=int(input(\"enter the number :\"))\n",
        "z=int(input(\"enter the number :\"))\n",
        "if(x>y and x>z):\n",
        "  print(\"x is greatest\")\n",
        "elif(y>x and y>z):\n",
        "  print(\"y is greatest\")\n",
        "else :\n",
        "  print(\"z is greatest\")"
      ],
      "metadata": {
        "id": "FQOWCE94UaHj"
      },
      "execution_count": null,
      "outputs": []
    },
    {
      "cell_type": "code",
      "source": [
        "#Q3 Write a program to check if a given year is a leap year. A leap year is divisible by 4 but not by 100\n",
        "#unless it is also divisible by 400."
      ],
      "metadata": {
        "id": "t_QU44gpUzDu"
      },
      "execution_count": null,
      "outputs": []
    },
    {
      "cell_type": "code",
      "source": [
        "year=int(input(\"enter the year :\"))\n",
        "if((year%4==0 and year%100!=0)or year%400==0):\n",
        "  print(\"This is a leap year.\")\n",
        "else:\n",
        "  print(\"this is not a leap year.\")"
      ],
      "metadata": {
        "id": "mfElozqrU4O-"
      },
      "execution_count": null,
      "outputs": []
    },
    {
      "cell_type": "code",
      "source": [
        "#Q4 Write a program that takes a percentage (integer) as input and prints the corresponding grade based\n",
        "#on the following criteria:\n",
        "#>= 90: Grade A\n",
        "#>= 80: Grade B\n",
        "#>= 70: Grade C\n",
        "#>= 60: Grade D\n",
        "#< 60: Grade F\n",
        "\n",
        "percent=int(input(\"enter your percentage:\"))\n",
        "if(percent>=90 and percent<101):\n",
        "  print(\"Grade A\")\n",
        "elif(percent>=80 and percent<90):\n",
        "  print(\"Grade B\")\n",
        "elif(percent>=70 and percent<80):\n",
        "  print(\"Grade C\")\n",
        "elif(percent>=60 and percent<70):\n",
        "  print(\"Grade D\")\n",
        "else:\n",
        "  print(\"Grade F\")"
      ],
      "metadata": {
        "id": "UaBHw4PmVX3m"
      },
      "execution_count": null,
      "outputs": []
    },
    {
      "cell_type": "code",
      "source": [
        "#Q5 Write a program that checks if a given letter is a vowel (a, e, i, o, u) or a consonant.\n",
        "char=input(\"enter the character :\")\n",
        "if(char=='a' or char=='e' or char=='i' or char=='o' or char=='u'):\n",
        "  print(\"This is vowel\")\n",
        "else:\n",
        "  print(\"This is consonant\")"
      ],
      "metadata": {
        "colab": {
          "base_uri": "https://localhost:8080/"
        },
        "id": "btABaAnYWZCt",
        "outputId": "f19925e4-662f-46e9-fc43-0358c05d903d"
      },
      "execution_count": null,
      "outputs": [
        {
          "output_type": "stream",
          "name": "stdout",
          "text": [
            "enter the character :aeiou\n",
            "This is consonant\n"
          ]
        }
      ]
    },
    {
      "cell_type": "code",
      "source": [
        "#Q6 Write a basic calculator program that takes two numbers and an operator (+, -, *, /) as input and\n",
        "# performs the specified operation. Print the result based on the operation.\n",
        "num1=int(input(\"enter first number :\"))\n",
        "operator=input(\"enter the operator :\")\n",
        "num2=int(input(\"enter second number :\"))\n",
        "if(operator=='+'):\n",
        "  print(\"After performing the operations we get this result : \",num1 + num2)\n",
        "if(operator=='-'):\n",
        "  print(\"After performing the operations we get this result : \",num1 - num2)\n",
        "if(operator=='/'):\n",
        "  print(\"After performing the operations we get this result : \",num1 / num2)\n",
        "if(operator=='*'):\n",
        "  print(\"After performing the operations we get this result : \",num1 * num2)"
      ],
      "metadata": {
        "colab": {
          "base_uri": "https://localhost:8080/"
        },
        "id": "ecjwo_AWXE3q",
        "outputId": "c77c8116-d670-4c74-e4b3-b28527fc7021"
      },
      "execution_count": null,
      "outputs": [
        {
          "output_type": "stream",
          "name": "stdout",
          "text": [
            "enter first number :4\n",
            "enter the operator :*\n",
            "enter second number :5\n",
            "After performing the operations we get this result :  20\n"
          ]
        }
      ]
    },
    {
      "cell_type": "code",
      "source": [
        "#Q7 Write a program that takes a number as input and checks whether it is positive, negative, or zero.\n",
        "number=int(input(\"enter your number :\"))\n",
        "if(number>0):\n",
        "  print(\"the number is positive.\")\n",
        "elif(number<0):\n",
        "  print(\"the number is negative.\")\n",
        "else:\n",
        "  print(\"the number is zero\")"
      ],
      "metadata": {
        "id": "oDm0FEyyYi2E"
      },
      "execution_count": null,
      "outputs": []
    },
    {
      "cell_type": "code",
      "source": [
        "#Q8 Write a program that checks if a username and password entered by the user match the pre-set values\n",
        "#username = \"admin\" and password = \"1234\". If both match, print \"Login Successful\", otherwise print\n",
        "#\"Login Failed\".\n",
        "username=input(\"enter your username :\")\n",
        "password=int(input(\"enter your password :\"))\n",
        "if(username=='admin' and password==1234):\n",
        "  print(\"login successful\")\n",
        "else:\n",
        "  print(\"login failed\")"
      ],
      "metadata": {
        "colab": {
          "base_uri": "https://localhost:8080/"
        },
        "id": "WkX9R3nRZACu",
        "outputId": "dc8adcf1-28fe-4374-fc0f-742b1d64e5e5"
      },
      "execution_count": null,
      "outputs": [
        {
          "output_type": "stream",
          "name": "stdout",
          "text": [
            "enter your username :admin\n",
            "enter your password :1234\n",
            "login successful\n"
          ]
        }
      ]
    },
    {
      "cell_type": "code",
      "source": [
        "#Q9 Write a program that takes three sides of a triangle as input and checks if those sides form a valid\n",
        "#triangle. A triangle is valid if the sum of any two sides is greater than the third side.\n",
        "#Check conditions like a + b > c, b + c > a, and a + c > b.\n",
        "\n",
        "a=int(input(\"enter side 1:\"))\n",
        "b=int(input(\"enter side 1:\"))\n",
        "c=int(input(\"enter side 1:\"))\n",
        "if( a + b > c or b + c > a or a + c > b):\n",
        "  print(\"a triangle is valid\")\n",
        "else:\n",
        "  print(\"Invalid values try again.\")"
      ],
      "metadata": {
        "colab": {
          "base_uri": "https://localhost:8080/"
        },
        "id": "Vkm3RVHAZeev",
        "outputId": "691d1eab-4867-42eb-c4cc-a81e33cd7d24"
      },
      "execution_count": null,
      "outputs": [
        {
          "output_type": "stream",
          "name": "stdout",
          "text": [
            "enter side 1:12\n",
            "enter side 1:6\n",
            "enter side 1:3\n",
            "a triangle is valid\n"
          ]
        }
      ]
    },
    {
      "cell_type": "code",
      "source": [
        "#Q10 Write a program that calculates the Body Mass Index (BMI) based on user input for weight (in\n",
        "#kilograms) and height (in meters). Then categorize the BMI into:\n",
        "#Underweight (BMI < 18.5)\n",
        "#Normal weight (18.5 <= BMI < 24.9)\n",
        "#Overweight (25 <= BMI < 29.9)\n",
        "#Obesity (BMI >= 30)\n",
        "#Use the formula: BMI = weight / (height ** 2)\n",
        "\n",
        "weight=float(input(\" Please enter your weight in kgs :\"))\n",
        "height=float(input(\"Please enter your height in metres\"))\n",
        "bmi= weight / (height ** 2)\n",
        "if(bmi<18.5):\n",
        "  print(\"under weight\")\n",
        "elif(bmi<24.9 and bmi>=18.5):\n",
        "  print(\"Normal Weight\")\n",
        "elif(bmi>=25 and bmi<29.9):\n",
        "  print(\"Overweight\")\n",
        "else:\n",
        "  print(\"obesity\")"
      ],
      "metadata": {
        "colab": {
          "base_uri": "https://localhost:8080/"
        },
        "id": "-zNZcSiSaTKc",
        "outputId": "8352be04-da1c-4095-f3a8-44ad9c63f1c8"
      },
      "execution_count": null,
      "outputs": [
        {
          "output_type": "stream",
          "name": "stdout",
          "text": [
            " Please enter your weight in kgs :12\n",
            "Please enter your height in metres1.5\n",
            "under weight\n"
          ]
        }
      ]
    },
    {
      "cell_type": "code",
      "source": [
        "#Q11 Write a program that calculates the discount for a product based on its price:\n",
        "#If price is greater than 1000, discount is 10%\n",
        "#If price is between 500 and 1000, discount is 5%\n",
        "#Otherwise, no discount\n",
        "#Print the final price after applying the discount.\n",
        "\n",
        "price=int(input(\"enter price :\"))\n",
        "if(price>1000):\n",
        "  discount=price*0.1\n",
        "  price -= discount\n",
        "  print(\"Net amount you have to pay :\",price)\n",
        "elif(price<=1000 and price>=500):\n",
        "  discount=price*0.05\n",
        "  price -= discount\n",
        "  print(\"Net amount you have to pay :\",price)\n",
        "else:\n",
        "  print(\"net amount you have to pay :\",price)"
      ],
      "metadata": {
        "colab": {
          "base_uri": "https://localhost:8080/"
        },
        "id": "9g68_yOobxGq",
        "outputId": "166fec9f-eb18-4159-a1dd-12371a3f8b86"
      },
      "execution_count": null,
      "outputs": [
        {
          "output_type": "stream",
          "name": "stdout",
          "text": [
            "enter price :200\n",
            "net amount you have to pay : 200\n"
          ]
        }
      ]
    },
    {
      "cell_type": "code",
      "source": [
        "#Q12 Write a program that takes the name of a month as input and prints the number of days in that\n",
        "#month. Consider leap years for February.\n",
        "\n",
        "month=input(\"enter month :\")\n",
        "if(month=='january' or month=='march' or month=='may' or month=='july' or month=='august' or month=='october'or month=='december'):\n",
        "  print(f\"The number of days in {month} is 31 days\")\n",
        "elif(month=='april' or month=='june' or month=='september' or month=='November'):\n",
        "  print(f\"The number of days in {month} is 30 days\")\n",
        "elif(month=='February'):\n",
        "  print(f\"The number of days in {month} is 28 days if it is leap year than 29 days\")\n",
        "else:\n",
        "  print(\"Try again with lower case\")"
      ],
      "metadata": {
        "colab": {
          "base_uri": "https://localhost:8080/"
        },
        "id": "8n0j4I88dBbu",
        "outputId": "61f09f7c-0f0c-476c-8dc2-40ed02d5bca8"
      },
      "execution_count": null,
      "outputs": [
        {
          "output_type": "stream",
          "name": "stdout",
          "text": [
            "enter month :january\n",
            "The number of days in january is 31 days\n"
          ]
        }
      ]
    },
    {
      "cell_type": "code",
      "source": [
        "#Q13 Write a program that simulates a simple ATM. The user should be able to:\n",
        "#Check balance\n",
        "#Deposit money\n",
        "#Withdraw money (ensure the balance doesn't go negative) Use an if-else structure to handle the user's\n",
        "#choices.\n",
        "balance=1000\n",
        "operation= int(input(\" press 0 to check balance \\n press 1 to deposit money \\n press 2 to withdraw money : \\n\"))\n",
        "if(operation==0):\n",
        "  print(\"the total balance in your account is :\", balance)\n",
        "if(operation==2):\n",
        "  withdraw=int(input(\"enter the amount you want to withdraw :\"))\n",
        "  if(withdraw<=balance and balance>0):\n",
        "    print(\"remaining balance after withdraw of\",withdraw,\"rupees is\",balance-withdraw)\n",
        "  else:\n",
        "    print(\"insufficient balance try again later after depositing money\")\n",
        "if(operation==1):\n",
        "  deposit=int(input(\"enter the amount you want to deposit :\"))\n",
        "  balance= balance+deposit\n",
        "  print(\"the total balance in your account after depositing\",deposit,\"rupees is\",balance)"
      ],
      "metadata": {
        "colab": {
          "base_uri": "https://localhost:8080/"
        },
        "id": "124FFzQuffTl",
        "outputId": "381c3f14-e6dd-4861-d920-83376c938fa3"
      },
      "execution_count": null,
      "outputs": [
        {
          "output_type": "stream",
          "name": "stdout",
          "text": [
            " press 0 to check balance \n",
            " press 1 to deposit money \n",
            " press 2 to withdraw money : \n",
            "1\n",
            "enter the amount you want to deposit :1300\n",
            "the total balance in your account after depositing 1300 rupees is 2300\n"
          ]
        }
      ]
    },
    {
      "cell_type": "code",
      "source": [
        "# Q14 Write a program that categorizes a given age into different groups:\n",
        "# Infant (0-1 year)\n",
        "# Toddler (2-4 years)\n",
        "# Child (5-12 years)\n",
        "# Teenager (13-19 years)\n",
        "# Adult (20-59 years)\n",
        "# Senior (60 years and above)\n",
        "age=int(input(\"enter your age :\"))\n",
        "if(age<2 and age>=0):\n",
        "  print(\"Infant\")\n",
        "elif(age<=4 and age>=2):\n",
        "  print(\"Toodler\")\n",
        "elif(age<=12 and age>=5):\n",
        "  print(\"Child\")\n",
        "elif(age<=19 and age>=13):\n",
        "  print(\"Teenager\")\n",
        "elif(age<=59 and age>=20):\n",
        "  print(\"Adult\")\n",
        "else:\n",
        "  print(\"Senior\")"
      ],
      "metadata": {
        "id": "8O_MIUYOhXaT",
        "colab": {
          "base_uri": "https://localhost:8080/"
        },
        "outputId": "9229eefe-d824-4464-e77a-052e693cbbfd"
      },
      "execution_count": null,
      "outputs": [
        {
          "output_type": "stream",
          "name": "stdout",
          "text": [
            "enter your age :89\n",
            "Senior\n"
          ]
        }
      ]
    },
    {
      "cell_type": "code",
      "source": [
        "# Q15 Write a program that takes an integer (1-7) as input and prints the corresponding day of the week (1\n",
        "# for Monday, 2 for Tuesday, etc.).\n",
        "\n",
        "integer=int(input(\"enter the integer in between 1 to 7:\"))\n",
        "if(integer==1):\n",
        "  print(\"monday\")\n",
        "if(integer==2):\n",
        "  print(\"tuesday\")\n",
        "if(integer==3):\n",
        "  print(\"wednesday\")\n",
        "if(integer==4):\n",
        "  print(\"Thursday\")\n",
        "if(integer==5):\n",
        "  print(\"Friday\")\n",
        "if(integer==6):\n",
        "  print(\"Saturday\")\n",
        "if(integer==7):\n",
        "  print(\"Sunday\")\n",
        "if(inte3ger>7):\n",
        "  print(\"try again with valid number\")"
      ],
      "metadata": {
        "colab": {
          "base_uri": "https://localhost:8080/"
        },
        "id": "gXb6qMqmt53H",
        "outputId": "7e6d6858-bd26-4651-c9eb-08428e45984e"
      },
      "execution_count": null,
      "outputs": [
        {
          "output_type": "stream",
          "name": "stdout",
          "text": [
            "enter the integer in between 1 to 7:8\n",
            "try again with valid number\n"
          ]
        }
      ]
    }
  ]
}