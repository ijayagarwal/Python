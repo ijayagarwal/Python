{
  "nbformat": 4,
  "nbformat_minor": 0,
  "metadata": {
    "colab": {
      "provenance": []
    },
    "kernelspec": {
      "name": "python3",
      "display_name": "Python 3"
    },
    "language_info": {
      "name": "python"
    }
  },
  "cells": [
    {
      "cell_type": "code",
      "execution_count": null,
      "metadata": {
        "colab": {
          "base_uri": "https://localhost:8080/"
        },
        "id": "sWDH5krFvrjy",
        "outputId": "9f76534d-d773-4785-b6f7-4d19984dcf5a"
      },
      "outputs": [
        {
          "output_type": "stream",
          "name": "stdout",
          "text": [
            "enter the number:10\n",
            "1\n",
            "2\n",
            "3\n",
            "4\n",
            "5\n",
            "6\n",
            "7\n",
            "8\n",
            "9\n",
            "10\n"
          ]
        }
      ],
      "source": [
        "# 1. Write a program to print all natural numbers from 1 to n. – using while\n",
        "# loop\n",
        "n=int(input(\"enter the number:\"))\n",
        "i=1\n",
        "while(n>=i):\n",
        "  print(i)\n",
        "  i=i+1"
      ]
    },
    {
      "cell_type": "code",
      "source": [
        "# 2. Write a program to print all natural numbers in reverse (from n to 1). –\n",
        "# using while loop\n",
        "n=int(input(\"enter the number:\"))\n",
        "i=1\n",
        "while(n>=i):\n",
        "  print(n)\n",
        "  n=n-1"
      ],
      "metadata": {
        "colab": {
          "base_uri": "https://localhost:8080/"
        },
        "id": "rYO9n9qXxlGY",
        "outputId": "a7e69ca2-6ebe-4471-ed67-d57b4bec0b0f"
      },
      "execution_count": null,
      "outputs": [
        {
          "output_type": "stream",
          "name": "stdout",
          "text": [
            "enter the number:10\n",
            "10\n",
            "9\n",
            "8\n",
            "7\n",
            "6\n",
            "5\n",
            "4\n",
            "3\n",
            "2\n",
            "1\n"
          ]
        }
      ]
    },
    {
      "cell_type": "code",
      "source": [
        "# 3. Write a program to print all alphabets from a to z. – using while loop\n",
        "i = ord('a') #here ord is giving ascii value of character a and below it is giving to character z\n",
        "while (i<=ord('z')):\n",
        "    print(chr(i), end=' ')  #and chr is converting ascii value to the character\n",
        "    i += 1\n"
      ],
      "metadata": {
        "colab": {
          "base_uri": "https://localhost:8080/"
        },
        "id": "kr1g0v54x3vF",
        "outputId": "b0a8973e-a43f-4e4e-9501-e240b50ef360"
      },
      "execution_count": null,
      "outputs": [
        {
          "output_type": "stream",
          "name": "stdout",
          "text": [
            "a b c d e f g h i j k l m n o p q r s t u v w x y z "
          ]
        }
      ]
    },
    {
      "cell_type": "code",
      "source": [
        "# 4. Write a program to print all even numbers between 1 to 100. – using\n",
        "# while loop\n",
        "n=100\n",
        "i=1\n",
        "while(n>=i):\n",
        "  if(i%2==0):\n",
        "    print(i, end=\" \")\n",
        "    i+=2\n",
        "  else:\n",
        "    i+=1"
      ],
      "metadata": {
        "colab": {
          "base_uri": "https://localhost:8080/"
        },
        "id": "8hLs6uuZ1uhJ",
        "outputId": "9b390b3d-17a0-45fa-dc19-293ed4850264"
      },
      "execution_count": null,
      "outputs": [
        {
          "output_type": "stream",
          "name": "stdout",
          "text": [
            "2 4 6 8 10 12 14 16 18 20 22 24 26 28 30 32 34 36 38 40 42 44 46 48 50 52 54 56 58 60 62 64 66 68 70 72 74 76 78 80 82 84 86 88 90 92 94 96 98 100 "
          ]
        }
      ]
    },
    {
      "cell_type": "code",
      "source": [
        "# 5. Write a program to find the sum of all odd numbers between 1 to n.\n",
        "n=int(input(\"enter the number :\"))\n",
        "i=1\n",
        "while(n>=i):\n",
        "  if(i%2==1):\n",
        "    print(i, end=\" \")\n",
        "    i+=2\n",
        "  else:\n",
        "    i+=1"
      ],
      "metadata": {
        "colab": {
          "base_uri": "https://localhost:8080/"
        },
        "id": "qsaqfn802V1k",
        "outputId": "92ea5405-da97-47ed-a91f-61316b1553da"
      },
      "execution_count": null,
      "outputs": [
        {
          "output_type": "stream",
          "name": "stdout",
          "text": [
            "enter the number :100\n",
            "1 3 5 7 9 11 13 15 17 19 21 23 25 27 29 31 33 35 37 39 41 43 45 47 49 51 53 55 57 59 61 63 65 67 69 71 73 75 77 79 81 83 85 87 89 91 93 95 97 99 "
          ]
        }
      ]
    },
    {
      "cell_type": "code",
      "source": [
        "# 6. Write a program to count the number of digits in a number.\n",
        "n=1234\n",
        "count=0\n",
        "while(n>0):\n",
        "  rem=n%10\n",
        "  n=n//10\n",
        "  count+=1\n",
        "print(count)\n"
      ],
      "metadata": {
        "colab": {
          "base_uri": "https://localhost:8080/"
        },
        "id": "2ko3Q3zq2pEJ",
        "outputId": "9ef75183-a651-4d6d-ff9f-efa60ea36eac"
      },
      "execution_count": null,
      "outputs": [
        {
          "output_type": "stream",
          "name": "stdout",
          "text": [
            "4\n"
          ]
        }
      ]
    },
    {
      "cell_type": "code",
      "source": [
        "# 7. Write a program to calculate the sum of digits of a number.\n",
        "n=1234\n",
        "sum=0\n",
        "while(n>0):\n",
        "  rem=n%10\n",
        "  sum=sum+rem\n",
        "  n=n//10\n",
        "print(sum)"
      ],
      "metadata": {
        "colab": {
          "base_uri": "https://localhost:8080/"
        },
        "id": "TLTxSGG73HFf",
        "outputId": "971660be-f1d4-4d89-fa60-e36e5d528651"
      },
      "execution_count": null,
      "outputs": [
        {
          "output_type": "stream",
          "name": "stdout",
          "text": [
            "10\n"
          ]
        }
      ]
    },
    {
      "cell_type": "code",
      "source": [
        "# 8. Write a program to find the first and last digit of a number.\n",
        "n=int(input(\"enter the number:\"))\n",
        "lastdigit=n%10\n",
        "firstdigit=n\n",
        "while(firstdigit>=10):\n",
        "  firstdigit//=10\n",
        "print(\"The first digit is\",firstdigit,\"and the last digit is \",lastdigit)\n"
      ],
      "metadata": {
        "colab": {
          "base_uri": "https://localhost:8080/"
        },
        "id": "S8BcxSpQ3WiC",
        "outputId": "d2826ee4-aeb0-4b5f-b36d-7f6fb22d6cd2"
      },
      "execution_count": null,
      "outputs": [
        {
          "output_type": "stream",
          "name": "stdout",
          "text": [
            "enter the number:2598\n",
            "The first digit is 2 and the last digit is  8\n"
          ]
        }
      ]
    },
    {
      "cell_type": "code",
      "source": [
        "# 9. Write a program to find the sum of first and last digit of a number.\n",
        "n=int(input(\"enter the number:\"))\n",
        "lastdigit=n%10\n",
        "firstdigit=n\n",
        "while(firstdigit>=10):\n",
        "  firstdigit//=10\n",
        "sum=firstdigit+lastdigit\n",
        "print(\"the sum of first and last digit is \", sum)"
      ],
      "metadata": {
        "colab": {
          "base_uri": "https://localhost:8080/"
        },
        "id": "lnJbyo4x7mJC",
        "outputId": "80af2643-ece1-47ab-c91e-170ba0bbcec3"
      },
      "execution_count": null,
      "outputs": [
        {
          "output_type": "stream",
          "name": "stdout",
          "text": [
            "enter the number:2558\n",
            "the sum of first and last digit is  10\n"
          ]
        }
      ]
    },
    {
      "cell_type": "code",
      "source": [
        "# 10.Write a program to enter a number and print its reverse.\n",
        "n=int(input(\"enter the number :\"))\n",
        "newnumber=0\n",
        "while(n>0):\n",
        "  rem=n%10\n",
        "  newnumber=newnumber*10+rem\n",
        "  n//=10\n",
        "print(\"the new number is \", newnumber)"
      ],
      "metadata": {
        "colab": {
          "base_uri": "https://localhost:8080/"
        },
        "id": "sAzyFfHS75WN",
        "outputId": "80a2790c-6a79-44ef-b431-5bfcf6f7dee0"
      },
      "execution_count": null,
      "outputs": [
        {
          "output_type": "stream",
          "name": "stdout",
          "text": [
            "enter the number :1234\n",
            "the new number is  4321\n"
          ]
        }
      ]
    },
    {
      "cell_type": "code",
      "source": [
        "# 11.Write a program to find the power of a number using for loop.\n",
        "base=int(input(\"enter the base number:\"))\n",
        "power=int(input(\"enter the power:\"))\n",
        "\n",
        "result=base**power\n",
        "print(f\"{base} raised to the power of {exponent} is: {result}\")"
      ],
      "metadata": {
        "colab": {
          "base_uri": "https://localhost:8080/"
        },
        "id": "whRnelfy_D4Y",
        "outputId": "b0a19a7d-4e62-4709-b074-bff82233e9c6"
      },
      "execution_count": null,
      "outputs": [
        {
          "output_type": "stream",
          "name": "stdout",
          "text": [
            "enter the base number:5\n",
            "enter the power:3\n",
            "5 raised to the power of 3 is: 125\n"
          ]
        }
      ]
    },
    {
      "cell_type": "code",
      "source": [
        "#12.Write a program to find all factors of a number.\n",
        "\n",
        "n=int(input(\"enter the number:\"))\n",
        "for i in range(1,n+1):\n",
        "  if(n%i==0):\n",
        "    print(i)\n",
        "  i+=1"
      ],
      "metadata": {
        "colab": {
          "base_uri": "https://localhost:8080/"
        },
        "id": "d3v7nznpAIMT",
        "outputId": "bdc3ae1e-a3a5-404c-86d0-084aa7dd7c9d"
      },
      "execution_count": null,
      "outputs": [
        {
          "output_type": "stream",
          "name": "stdout",
          "text": [
            "enter the number:30\n",
            "1\n",
            "2\n",
            "3\n",
            "5\n",
            "6\n",
            "10\n",
            "15\n",
            "30\n"
          ]
        }
      ]
    },
    {
      "cell_type": "code",
      "source": [
        "#13.Write a program to calculate the factorial of a number.\n",
        "n=int(input(\"enter the number:\"))\n",
        "factorial=1\n",
        "for i in range(1,n+1):\n",
        "  factorial=factorial*i\n",
        "print(factorial)\n",
        "\n"
      ],
      "metadata": {
        "colab": {
          "base_uri": "https://localhost:8080/"
        },
        "id": "5rZtLpKhAr3p",
        "outputId": "cdc1eb3e-9005-45c8-dac9-699dc5811c89"
      },
      "execution_count": null,
      "outputs": [
        {
          "output_type": "stream",
          "name": "stdout",
          "text": [
            "enter the number:5\n",
            "120\n"
          ]
        }
      ]
    },
    {
      "cell_type": "code",
      "source": [
        "#14.Write a program to find LCM of two numbers.\n",
        "n1=int(input(\"enter first number:\"))\n",
        "n2=int(input(\"enter second number:\"))\n",
        "if(n1>n2):\n",
        "  greater=n1\n",
        "else:\n",
        "  greater=n2\n",
        "\n",
        "while(greater>=n1 or greater>=n2):\n",
        "  if(greater%n1==0 and greater%n2==0):\n",
        "    lcm=greater\n",
        "    break\n",
        "  else:\n",
        "    greater+=1\n",
        "print(\"the lcm of both the numbers is :\",lcm)"
      ],
      "metadata": {
        "colab": {
          "base_uri": "https://localhost:8080/"
        },
        "id": "eUgOgmE-BaUy",
        "outputId": "d176b2b5-621c-4cbd-8106-88bd00cfedf5"
      },
      "execution_count": null,
      "outputs": [
        {
          "output_type": "stream",
          "name": "stdout",
          "text": [
            "enter first number:2\n",
            "enter second number:5\n",
            "the lcm of both the numbers is : 10\n"
          ]
        }
      ]
    },
    {
      "cell_type": "code",
      "source": [
        "# 15.Write a program to check whether a number is Prime number or not.\n",
        "\n",
        "n=int(input(\"enter the number :\"))\n",
        "count=0\n",
        "for i in range(1,n+1):\n",
        "  if(n%i==0):\n",
        "    count+=1\n",
        "  i+=1\n",
        "if(count>2):\n",
        "  print(\"it is not a prime number\")\n",
        "\n",
        "else:\n",
        "  print(\"it is a prime number.\")"
      ],
      "metadata": {
        "colab": {
          "base_uri": "https://localhost:8080/"
        },
        "id": "lSk1v546EYGv",
        "outputId": "9d3a35d2-cd89-4cae-8d67-1351ec48df79"
      },
      "execution_count": null,
      "outputs": [
        {
          "output_type": "stream",
          "name": "stdout",
          "text": [
            "enter the number :25\n",
            "it is not a prime number\n"
          ]
        }
      ]
    },
    {
      "cell_type": "code",
      "source": [
        "#16.Write a program to print all Prime numbers between 1 to n.\n",
        "end = int(input(\"Enter the number: \"))\n",
        "for n in range(2, end + 1):\n",
        "    count = 0\n",
        "    for i in range(1, n + 1):\n",
        "        if n%i==0:\n",
        "            count+=1\n",
        "    if count==2:\n",
        "        print(n,end=\" \")\n"
      ],
      "metadata": {
        "colab": {
          "base_uri": "https://localhost:8080/"
        },
        "id": "eGy8hIn5KnQW",
        "outputId": "ec53af0c-ea72-4be9-9683-f6ff9e5da8e5"
      },
      "execution_count": null,
      "outputs": [
        {
          "output_type": "stream",
          "name": "stdout",
          "text": [
            "Enter the number: 100\n",
            "2 3 5 7 11 13 17 19 23 29 31 37 41 43 47 53 59 61 67 71 73 79 83 89 97 "
          ]
        }
      ]
    },
    {
      "cell_type": "code",
      "source": [
        "#17.Write a program to find all prime factors of a number.\n",
        "\n",
        "n=int(input(\"enter the number :\"))\n",
        "for i in range(1,n+1):\n",
        "  if(n%i==0):\n",
        "    if(i%2!=0):\n",
        "      print(i)\n",
        "\n",
        "  i+=1\n"
      ],
      "metadata": {
        "colab": {
          "base_uri": "https://localhost:8080/"
        },
        "id": "ka1jaNwUQidg",
        "outputId": "7dd5cc7e-5bce-4ebe-9d2d-442b68e55853"
      },
      "execution_count": null,
      "outputs": [
        {
          "output_type": "stream",
          "name": "stdout",
          "text": [
            "enter the number :30\n",
            "1\n",
            "3\n",
            "5\n",
            "15\n"
          ]
        }
      ]
    },
    {
      "cell_type": "code",
      "source": [
        "# 18.Write a program to check whether a number is an Armstrong number or\n",
        "# not.\n",
        "# a. An Armstrong number is a n-digit number that is equal to the sum\n",
        "# of the nth power of its digits. For example –\n",
        "# 6 = 61 = 6\n",
        "# 371 = 33 + 73 + 13 = 371\n",
        "a=int(input(\"enter the number:\"))\n",
        "result=0\n",
        "number=a\n",
        "while(a>0):\n",
        "  rem=a%10\n",
        "  result=result+(rem*rem*rem)\n",
        "  a=a//10\n",
        "if(result==number):\n",
        "  print(\"this is armstrong number\")\n",
        "else:\n",
        "  print(\"this is not a armstrong number\")"
      ],
      "metadata": {
        "colab": {
          "base_uri": "https://localhost:8080/"
        },
        "id": "qZGDyPBDVPng",
        "outputId": "ea5b7ed6-e82b-4252-8aa6-0b00fe3f5b5a"
      },
      "execution_count": null,
      "outputs": [
        {
          "output_type": "stream",
          "name": "stdout",
          "text": [
            "enter the number:153\n",
            "this is armstrong number\n"
          ]
        }
      ]
    },
    {
      "cell_type": "code",
      "source": [
        "# 19.Write a program to check whether a number is Strong number or not\n",
        "# a. Strong number is a special number whose sum of factorial digits is\n",
        "# equal to the original number.\n",
        "# For example: 145 is a strong number. Since, 1! + 4! + 5! = 145\n",
        "a = int(input(\"Enter the number: \"))\n",
        "result = 0\n",
        "number = a\n",
        "while (a > 0):\n",
        "    rem = a % 10\n",
        "    factorial = 1\n",
        "    for i in range(1, rem + 1):\n",
        "        factorial *= i\n",
        "    result += factorial\n",
        "    a //= 10\n",
        "if result == number:\n",
        "    print(\"This is a Strong number\")\n",
        "else:\n",
        "    print(\"This is not a Strong number\")\n"
      ],
      "metadata": {
        "colab": {
          "base_uri": "https://localhost:8080/"
        },
        "id": "VIpbJDt9VgSH",
        "outputId": "592102f3-5200-4f3e-e79a-d1471e813850"
      },
      "execution_count": null,
      "outputs": [
        {
          "output_type": "stream",
          "name": "stdout",
          "text": [
            "Enter the number: 153\n",
            "This is not a Strong number\n"
          ]
        }
      ]
    },
    {
      "cell_type": "code",
      "source": [
        "# 20.Write a program to check whether a number is perfect number or not\n",
        "\n",
        "# a. Perfect number is a positive integer which is equal to the sum of\n",
        "# its proper positive divisors.\n",
        "# For example: 6 is the first perfect number\n",
        "# Proper divisors of 6 are 1, 2, 3\n",
        "# Sum of its proper divisors = 1 + 2 + 3 = 6.\n",
        "# Hence 6 is a perfect number.\n",
        "\n",
        "n = int(input(\"Enter the number: \"))\n",
        "sumofdivisors= 0\n",
        "i = 1\n",
        "while (i < n):\n",
        "    if n % i == 0:\n",
        "        sumofdivisors += i\n",
        "    i += 1\n",
        "\n",
        "if (sumofdivisors == n):\n",
        "    print(\"This is a Perfect number\")\n",
        "else:\n",
        "    print(\"This is not a Perfect number\")\n"
      ],
      "metadata": {
        "colab": {
          "base_uri": "https://localhost:8080/"
        },
        "id": "LqRDitSeWgY7",
        "outputId": "620bd621-c3ec-4614-ac93-f9575a4c1089"
      },
      "execution_count": null,
      "outputs": [
        {
          "output_type": "stream",
          "name": "stdout",
          "text": [
            "Enter the number: 6\n",
            "This is a Perfect number\n"
          ]
        }
      ]
    },
    {
      "cell_type": "code",
      "source": [
        "# 21.Write a program to print fibonacci series upto n terms\n",
        "# a. Fibonacci series is a series of numbers where the current number\n",
        "# is the sum of the previous two terms. For Example: 0, 1, 1, 2, 3, 5,\n",
        "# 8, 13, 21, ... , (n-1th + n-2th)\n",
        "\n",
        "n = int(input(\"Enter the number of terms: \"))\n",
        "a, b = 0, 1\n",
        "count = 0\n",
        "\n",
        "while count < n:\n",
        "    print(a, end=\" \")\n",
        "    next=a+b\n",
        "    a=b\n",
        "    b=next\n",
        "    count += 1\n"
      ],
      "metadata": {
        "colab": {
          "base_uri": "https://localhost:8080/"
        },
        "id": "I5dMVtbbXYkO",
        "outputId": "bd018cc4-8494-4a59-e597-24775bf2c5ad"
      },
      "execution_count": null,
      "outputs": [
        {
          "output_type": "stream",
          "name": "stdout",
          "text": [
            "Enter the number of terms: 5\n",
            "0 1 1 2 3 "
          ]
        }
      ]
    }
  ]
}