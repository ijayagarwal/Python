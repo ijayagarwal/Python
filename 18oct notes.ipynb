{
  "nbformat": 4,
  "nbformat_minor": 0,
  "metadata": {
    "colab": {
      "provenance": []
    },
    "kernelspec": {
      "name": "python3",
      "display_name": "Python 3"
    },
    "language_info": {
      "name": "python"
    }
  },
  "cells": [
    {
      "cell_type": "code",
      "execution_count": 6,
      "metadata": {
        "colab": {
          "base_uri": "https://localhost:8080/",
          "height": 35
        },
        "id": "MtUfKXA-mQlk",
        "outputId": "aad2a776-927f-44d6-bd6f-947ca7377a09"
      },
      "outputs": [
        {
          "output_type": "execute_result",
          "data": {
            "text/plain": [
              "'apr'"
            ],
            "application/vnd.google.colaboratory.intrinsic+json": {
              "type": "string"
            }
          },
          "metadata": {},
          "execution_count": 6
        }
      ],
      "source": [
        "msg=\"Jaipur\"\n",
        "msg[1:6:2]\n"
      ]
    },
    {
      "cell_type": "code",
      "source": [
        "msg=\"hey tushar\"\n",
        "msg[-3:-1]"
      ],
      "metadata": {
        "colab": {
          "base_uri": "https://localhost:8080/",
          "height": 35
        },
        "id": "IC1aX7jnobRk",
        "outputId": "c485322b-48b8-47b5-9f4b-b9181e9b90fa"
      },
      "execution_count": 8,
      "outputs": [
        {
          "output_type": "execute_result",
          "data": {
            "text/plain": [
              "'ha'"
            ],
            "application/vnd.google.colaboratory.intrinsic+json": {
              "type": "string"
            }
          },
          "metadata": {},
          "execution_count": 8
        }
      ]
    },
    {
      "cell_type": "code",
      "source": [
        "#list data type\n",
        "#collection of values\n",
        "#mutable datatype in pythom\n",
        "#ordered=> sequence of element\n",
        "\n",
        "mylist=[10,2,3,\"abc\"]\n",
        "type(mylist)"
      ],
      "metadata": {
        "colab": {
          "base_uri": "https://localhost:8080/"
        },
        "id": "B30_2VXW2yTN",
        "outputId": "c96707ce-0f78-42b3-a1ec-9001f2b062c2"
      },
      "execution_count": 9,
      "outputs": [
        {
          "output_type": "execute_result",
          "data": {
            "text/plain": [
              "list"
            ]
          },
          "metadata": {},
          "execution_count": 9
        }
      ]
    },
    {
      "cell_type": "code",
      "source": [
        "mylist[2:5]"
      ],
      "metadata": {
        "colab": {
          "base_uri": "https://localhost:8080/"
        },
        "id": "5ZYGdY6U4Knu",
        "outputId": "4b05141a-8904-4b40-bc5d-c59601f44239"
      },
      "execution_count": 10,
      "outputs": [
        {
          "output_type": "execute_result",
          "data": {
            "text/plain": [
              "[3, 'abc']"
            ]
          },
          "metadata": {},
          "execution_count": 10
        }
      ]
    },
    {
      "cell_type": "code",
      "source": [
        "mylist[-1]"
      ],
      "metadata": {
        "colab": {
          "base_uri": "https://localhost:8080/",
          "height": 35
        },
        "id": "p40Uql9d4196",
        "outputId": "73d3f50b-a008-4048-df3d-c3a81f21fd61"
      },
      "execution_count": 11,
      "outputs": [
        {
          "output_type": "execute_result",
          "data": {
            "text/plain": [
              "'abc'"
            ],
            "application/vnd.google.colaboratory.intrinsic+json": {
              "type": "string"
            }
          },
          "metadata": {},
          "execution_count": 11
        }
      ]
    },
    {
      "cell_type": "code",
      "source": [
        "mylist[0]=500\n",
        "print(mylist)"
      ],
      "metadata": {
        "colab": {
          "base_uri": "https://localhost:8080/"
        },
        "id": "JX-01eB649-z",
        "outputId": "aa71cab5-905a-4449-af9e-01b7a7f21940"
      },
      "execution_count": 18,
      "outputs": [
        {
          "output_type": "stream",
          "name": "stdout",
          "text": [
            "[500, 2, 500, 'abc']\n"
          ]
        }
      ]
    },
    {
      "cell_type": "code",
      "source": [
        "print(mylist)"
      ],
      "metadata": {
        "colab": {
          "base_uri": "https://localhost:8080/"
        },
        "id": "37GBhS1r5eHG",
        "outputId": "6429dd15-ba3f-4ca6-afad-491a1ef40636"
      },
      "execution_count": 19,
      "outputs": [
        {
          "output_type": "stream",
          "name": "stdout",
          "text": [
            "[500, 2, 500, 'abc']\n"
          ]
        }
      ]
    },
    {
      "cell_type": "code",
      "source": [
        "mylist.append(19)\n",
        "mylist"
      ],
      "metadata": {
        "colab": {
          "base_uri": "https://localhost:8080/"
        },
        "id": "jAeKDZX75iyK",
        "outputId": "7d9e01f1-c9c6-455e-d3a8-1cf6b151e7c6"
      },
      "execution_count": 21,
      "outputs": [
        {
          "output_type": "execute_result",
          "data": {
            "text/plain": [
              "[500, 2, 500, 'abc', 19, 19]"
            ]
          },
          "metadata": {},
          "execution_count": 21
        }
      ]
    },
    {
      "cell_type": "code",
      "source": [
        "mylist.extend([99,88,100])\n",
        "print(mylist)"
      ],
      "metadata": {
        "colab": {
          "base_uri": "https://localhost:8080/"
        },
        "id": "_gmQaZZW6K3o",
        "outputId": "9aa918d1-ddaa-4ed7-d786-780818d8f575"
      },
      "execution_count": 22,
      "outputs": [
        {
          "output_type": "stream",
          "name": "stdout",
          "text": [
            "[500, 2, 500, 'abc', 19, 19, 99, 88, 100]\n"
          ]
        }
      ]
    },
    {
      "cell_type": "code",
      "source": [
        "mylist.pop()\n",
        "print(mylist)"
      ],
      "metadata": {
        "colab": {
          "base_uri": "https://localhost:8080/"
        },
        "id": "089v68jx6War",
        "outputId": "4dc06e77-a855-4f1f-e900-5236865262a6"
      },
      "execution_count": 26,
      "outputs": [
        {
          "output_type": "stream",
          "name": "stdout",
          "text": [
            "[500, 2, 500, 'abc', 19, 19, 99]\n"
          ]
        }
      ]
    },
    {
      "cell_type": "code",
      "source": [
        "#loop on list\n",
        "#directly\n",
        "\n",
        "for i in [10,20,4,5,6,7,100,\"jayA\"]:\n",
        "  print(i)"
      ],
      "metadata": {
        "colab": {
          "base_uri": "https://localhost:8080/"
        },
        "id": "yNIGuCXS6-Re",
        "outputId": "12cbd00f-86cd-4af4-e027-03d14a801054"
      },
      "execution_count": 28,
      "outputs": [
        {
          "output_type": "stream",
          "name": "stdout",
          "text": [
            "10\n",
            "20\n",
            "4\n",
            "5\n",
            "6\n",
            "7\n",
            "100\n",
            "jayA\n"
          ]
        }
      ]
    },
    {
      "cell_type": "code",
      "source": [
        "len(mylist)"
      ],
      "metadata": {
        "colab": {
          "base_uri": "https://localhost:8080/"
        },
        "id": "t8bmimAE7fXx",
        "outputId": "eea0aa6e-386b-4ccf-96ab-498eaca17fde"
      },
      "execution_count": 29,
      "outputs": [
        {
          "output_type": "execute_result",
          "data": {
            "text/plain": [
              "7"
            ]
          },
          "metadata": {},
          "execution_count": 29
        }
      ]
    },
    {
      "cell_type": "code",
      "source": [
        "mylist=[10,20,30,40,\"jay\"]\n",
        "for index in range(0,6):\n",
        "  print(index,mylist[index])"
      ],
      "metadata": {
        "colab": {
          "base_uri": "https://localhost:8080/",
          "height": 263
        },
        "id": "HAx3c_Sm7oXn",
        "outputId": "909a5483-d796-457b-c1a2-a7b90046b863"
      },
      "execution_count": 33,
      "outputs": [
        {
          "output_type": "stream",
          "name": "stdout",
          "text": [
            "0 10\n",
            "1 20\n",
            "2 30\n",
            "3 40\n",
            "4 jay\n"
          ]
        },
        {
          "output_type": "error",
          "ename": "IndexError",
          "evalue": "list index out of range",
          "traceback": [
            "\u001b[0;31m---------------------------------------------------------------------------\u001b[0m",
            "\u001b[0;31mIndexError\u001b[0m                                Traceback (most recent call last)",
            "\u001b[0;32m<ipython-input-33-0a0916fc55bf>\u001b[0m in \u001b[0;36m<cell line: 2>\u001b[0;34m()\u001b[0m\n\u001b[1;32m      1\u001b[0m \u001b[0mmylist\u001b[0m\u001b[0;34m=\u001b[0m\u001b[0;34m[\u001b[0m\u001b[0;36m10\u001b[0m\u001b[0;34m,\u001b[0m\u001b[0;36m20\u001b[0m\u001b[0;34m,\u001b[0m\u001b[0;36m30\u001b[0m\u001b[0;34m,\u001b[0m\u001b[0;36m40\u001b[0m\u001b[0;34m,\u001b[0m\u001b[0;34m\"jay\"\u001b[0m\u001b[0;34m]\u001b[0m\u001b[0;34m\u001b[0m\u001b[0;34m\u001b[0m\u001b[0m\n\u001b[1;32m      2\u001b[0m \u001b[0;32mfor\u001b[0m \u001b[0mindex\u001b[0m \u001b[0;32min\u001b[0m \u001b[0mrange\u001b[0m\u001b[0;34m(\u001b[0m\u001b[0;36m0\u001b[0m\u001b[0;34m,\u001b[0m\u001b[0;36m6\u001b[0m\u001b[0;34m)\u001b[0m\u001b[0;34m:\u001b[0m\u001b[0;34m\u001b[0m\u001b[0;34m\u001b[0m\u001b[0m\n\u001b[0;32m----> 3\u001b[0;31m   \u001b[0mprint\u001b[0m\u001b[0;34m(\u001b[0m\u001b[0mindex\u001b[0m\u001b[0;34m,\u001b[0m\u001b[0mmylist\u001b[0m\u001b[0;34m[\u001b[0m\u001b[0mindex\u001b[0m\u001b[0;34m]\u001b[0m\u001b[0;34m)\u001b[0m\u001b[0;34m\u001b[0m\u001b[0;34m\u001b[0m\u001b[0m\n\u001b[0m",
            "\u001b[0;31mIndexError\u001b[0m: list index out of range"
          ]
        }
      ]
    },
    {
      "cell_type": "code",
      "source": [
        "mylist=[10,20,3,40,50,100,5,6,7,9]\n",
        "for index in mylist:\n",
        "  if(index%2==0):\n",
        "    print(\"even\",index)"
      ],
      "metadata": {
        "colab": {
          "base_uri": "https://localhost:8080/"
        },
        "id": "a6agQ_698LBi",
        "outputId": "29019c7e-37da-4952-86d8-3d6aaa2a85aa"
      },
      "execution_count": 40,
      "outputs": [
        {
          "output_type": "stream",
          "name": "stdout",
          "text": [
            "even 10\n",
            "even 20\n",
            "even 40\n",
            "even 50\n",
            "even 100\n",
            "even 6\n"
          ]
        }
      ]
    },
    {
      "cell_type": "code",
      "source": [
        "mylist=[10,20,3,40,50,100,5,6,7,9,2.5,\"hey\"]\n",
        "for index in mylist:\n",
        "  if(type (index)is int):\n",
        "    print(f\"square of {index} is\",index**2,\"and cube is\",index**3 )"
      ],
      "metadata": {
        "colab": {
          "base_uri": "https://localhost:8080/"
        },
        "id": "uGi2XR6I9aso",
        "outputId": "f731628c-8825-4877-e816-61bf302e750e"
      },
      "execution_count": 56,
      "outputs": [
        {
          "output_type": "stream",
          "name": "stdout",
          "text": [
            "square of 10 is 100 and cube is 1000\n",
            "square of 20 is 400 and cube is 8000\n",
            "square of 3 is 9 and cube is 27\n",
            "square of 40 is 1600 and cube is 64000\n",
            "square of 50 is 2500 and cube is 125000\n",
            "square of 100 is 10000 and cube is 1000000\n",
            "square of 5 is 25 and cube is 125\n",
            "square of 6 is 36 and cube is 216\n",
            "square of 7 is 49 and cube is 343\n",
            "square of 9 is 81 and cube is 729\n"
          ]
        }
      ]
    },
    {
      "cell_type": "code",
      "source": [
        "mylist=[10,20,3,40,50,100,5,6,7,9,2.5,\"hey\"]\n",
        "emptylist=[]\n",
        "for index in mylist:\n",
        "  if(type (index)is int):\n",
        "    emptylist.append(index**2)\n",
        "print(emptylist)"
      ],
      "metadata": {
        "colab": {
          "base_uri": "https://localhost:8080/"
        },
        "id": "FoPpKAs4Abff",
        "outputId": "4e005439-5a22-48a1-ead1-b036b85d3e28"
      },
      "execution_count": 57,
      "outputs": [
        {
          "output_type": "stream",
          "name": "stdout",
          "text": [
            "[100, 400, 9, 1600, 2500, 10000, 25, 36, 49, 81]\n"
          ]
        }
      ]
    },
    {
      "cell_type": "code",
      "source": [
        "x=int(input(\"enter the number:\"))\n",
        "num=[10,12,15,17,20]\n",
        "if x in num:\n",
        "  print(\"true\")\n",
        "else:\n",
        "  print(\"false\")\n"
      ],
      "metadata": {
        "colab": {
          "base_uri": "https://localhost:8080/"
        },
        "id": "z8_xXjeqArEo",
        "outputId": "2b7d0526-0e45-47d0-8e83-a0c9a6747776"
      },
      "execution_count": 63,
      "outputs": [
        {
          "output_type": "stream",
          "name": "stdout",
          "text": [
            "enter the number:13\n",
            "false\n"
          ]
        }
      ]
    },
    {
      "cell_type": "code",
      "source": [
        "x=12\n",
        "num=[10,12,12,15,17,20]\n",
        "if x in num:\n",
        "  print(\"true\")\n",
        "else:\n",
        "  print(\"false\")\n"
      ],
      "metadata": {
        "colab": {
          "base_uri": "https://localhost:8080/"
        },
        "id": "J4-_B9QiBs4n",
        "outputId": "2f042b25-87fc-4ea2-bfa7-535cf569e06b"
      },
      "execution_count": 68,
      "outputs": [
        {
          "output_type": "stream",
          "name": "stdout",
          "text": [
            "true\n"
          ]
        }
      ]
    },
    {
      "cell_type": "code",
      "source": [
        "num=[10,12,12,15,17,20]\n",
        "\n",
        "for i in range(0,5):\n",
        "  print(i,num[i])\n",
        "  for j in range(i+1, len(num)):\n",
        "    print(num[i], num[j])\n",
        "    if(num[i]==num[j]):\n",
        "      print(\"it has duplicate value\")\n",
        "\n",
        "  print(\"===========\")\n",
        ""
      ],
      "metadata": {
        "colab": {
          "base_uri": "https://localhost:8080/"
        },
        "id": "5YECaJAUCZS2",
        "outputId": "f243d4cd-6604-4618-eb79-07a9a8372fd0"
      },
      "execution_count": 75,
      "outputs": [
        {
          "output_type": "stream",
          "name": "stdout",
          "text": [
            "0 10\n",
            "10 12\n",
            "10 12\n",
            "10 15\n",
            "10 17\n",
            "10 20\n",
            "===========\n",
            "1 12\n",
            "12 12\n",
            "it has duplicate value\n",
            "12 15\n",
            "12 17\n",
            "12 20\n",
            "===========\n",
            "2 12\n",
            "12 15\n",
            "12 17\n",
            "12 20\n",
            "===========\n",
            "3 15\n",
            "15 17\n",
            "15 20\n",
            "===========\n",
            "4 17\n",
            "17 20\n",
            "===========\n"
          ]
        }
      ]
    },
    {
      "cell_type": "code",
      "source": [
        "num=[10,12,1,15,17,20]\n",
        "x=0\n",
        "for i in range(0,5):\n",
        "\n",
        "  for j in range(i+1, len(num)):\n",
        "    if(num[i]==num[j]):\n",
        "      x+=1\n",
        "      break\n",
        "\n",
        "\n",
        "if(x==1):\n",
        "  print(\"duplicate values\")\n",
        "else:\n",
        "  print(\"unique values\")\n",
        ""
      ],
      "metadata": {
        "colab": {
          "base_uri": "https://localhost:8080/"
        },
        "id": "4nBtWI5OFyGc",
        "outputId": "009c740d-1e0e-4d7e-a467-ca5c1fa39184"
      },
      "execution_count": 79,
      "outputs": [
        {
          "output_type": "stream",
          "name": "stdout",
          "text": [
            "unique values\n"
          ]
        }
      ]
    },
    {
      "cell_type": "code",
      "source": [
        "num=[10,12,10,15,17,20]\n",
        "x=0\n",
        "for i in range(0,5):\n",
        "\n",
        "  for j in range(i+1, len(num)):\n",
        "    if(num[i]==num[j]):\n",
        "      x+=1\n",
        "\n",
        "\n",
        "\n",
        "      if(x==1):\n",
        "        print(\"the list contain duplicate values of\",num[i])\n",
        "      else:\n",
        "        print(\"unique values\")\n",
        ""
      ],
      "metadata": {
        "colab": {
          "base_uri": "https://localhost:8080/"
        },
        "id": "bbZO8TWuGMTE",
        "outputId": "2b82489a-d38e-45c6-f8b4-0382eb4770db"
      },
      "execution_count": 83,
      "outputs": [
        {
          "output_type": "stream",
          "name": "stdout",
          "text": [
            "the list contain duplicate values of 10\n"
          ]
        }
      ]
    },
    {
      "cell_type": "code",
      "source": [
        "num=[10,12,10,15,17,20,20]\n",
        "duplicate=[]\n",
        "\n",
        "x=0\n",
        "for i in range(0,len(num)):\n",
        "  for j in range(i+1,len(num)):\n",
        "    if(num[i]==num[j]):\n",
        "      if num[i] not in duplicate:\n",
        "        duplicate.append(num[i])\n",
        "print(duplicate)\n"
      ],
      "metadata": {
        "colab": {
          "base_uri": "https://localhost:8080/"
        },
        "id": "zB0HViKnIJ0A",
        "outputId": "b4d3b2a4-c0d5-4a83-fc60-d769c2f04d1e"
      },
      "execution_count": 85,
      "outputs": [
        {
          "output_type": "stream",
          "name": "stdout",
          "text": [
            "[10, 20]\n"
          ]
        }
      ]
    },
    {
      "cell_type": "code",
      "source": [],
      "metadata": {
        "id": "GkLJCppbJN1h"
      },
      "execution_count": null,
      "outputs": []
    }
  ]
}