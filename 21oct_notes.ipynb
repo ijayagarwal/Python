{
  "nbformat": 4,
  "nbformat_minor": 0,
  "metadata": {
    "colab": {
      "provenance": []
    },
    "kernelspec": {
      "name": "python3",
      "display_name": "Python 3"
    },
    "language_info": {
      "name": "python"
    }
  },
  "cells": [
    {
      "cell_type": "code",
      "source": [
        "# we all already seen the append , extend, insert, remove , pop etc."
      ],
      "metadata": {
        "id": "2gdcOcAYFtuH"
      },
      "execution_count": null,
      "outputs": []
    },
    {
      "cell_type": "code",
      "execution_count": 4,
      "metadata": {
        "colab": {
          "base_uri": "https://localhost:8080/"
        },
        "id": "dumEjf3QSkDT",
        "outputId": "6e58f1a7-33dd-430d-aea4-73f609e4156e"
      },
      "outputs": [
        {
          "output_type": "stream",
          "name": "stdout",
          "text": [
            "[10, 90, 30, 40]\n"
          ]
        }
      ],
      "source": [
        "mylist=[10,90,30]\n",
        "mylist.append(40)\n",
        "print(mylist)\n",
        "##we can only add one element at a time using append"
      ]
    },
    {
      "cell_type": "code",
      "source": [
        "#to add multiple element we have to use extend\n",
        "mylist.extend('hey')\n",
        "print(mylist)   ## isper loop chalta hai isliye ye pr character iterate hua agr pura hey ko daalna hai to list ke format me dalna hoga"
      ],
      "metadata": {
        "colab": {
          "base_uri": "https://localhost:8080/"
        },
        "id": "J1_M8MEIGKx_",
        "outputId": "11ad1fdc-d512-4fae-a270-4364d847ee05"
      },
      "execution_count": 6,
      "outputs": [
        {
          "output_type": "stream",
          "name": "stdout",
          "text": [
            "[10, 90, 30, 40, 'h', 'e', 'y', 'h', 'e', 'y']\n"
          ]
        }
      ]
    },
    {
      "cell_type": "code",
      "source": [
        "mylist.extend([\"hey\"])\n",
        "print(mylist)"
      ],
      "metadata": {
        "colab": {
          "base_uri": "https://localhost:8080/"
        },
        "id": "SNfJpMz3GiGV",
        "outputId": "b9af5be8-1661-49da-d14e-cd9acfc22db9"
      },
      "execution_count": 7,
      "outputs": [
        {
          "output_type": "stream",
          "name": "stdout",
          "text": [
            "[10, 90, 30, 40, 'h', 'e', 'y', 'h', 'e', 'y', 'hey']\n"
          ]
        }
      ]
    },
    {
      "cell_type": "code",
      "source": [
        "mylist.pop(3)\n",
        "print(mylist)"
      ],
      "metadata": {
        "colab": {
          "base_uri": "https://localhost:8080/"
        },
        "id": "q0C8gfLbGu9Z",
        "outputId": "e6144243-fc78-4ad3-d01c-a4f06693ca3d"
      },
      "execution_count": 8,
      "outputs": [
        {
          "output_type": "stream",
          "name": "stdout",
          "text": [
            "[10, 90, 30, 'h', 'e', 'y', 'h', 'e', 'y', 'hey']\n"
          ]
        }
      ]
    },
    {
      "cell_type": "code",
      "source": [
        "##there is one more method to insert element using indexing\n",
        "mylist.insert(1,\"yash\")\n",
        "print(mylist)"
      ],
      "metadata": {
        "colab": {
          "base_uri": "https://localhost:8080/"
        },
        "id": "K4g1XM_1S1v6",
        "outputId": "f2dd4781-63be-4667-e73e-2619eb7ef6ef"
      },
      "execution_count": 10,
      "outputs": [
        {
          "output_type": "stream",
          "name": "stdout",
          "text": [
            "[10, 'yash', 'yash', 90, 30, 'h', 'e', 'y', 'h', 'e', 'y', 'hey']\n"
          ]
        }
      ]
    },
    {
      "cell_type": "code",
      "source": [
        "# #there are many more functions similar to it and you can't learn all the functions\n",
        "# so you can use help\n",
        "\n",
        "help(mylist)"
      ],
      "metadata": {
        "colab": {
          "base_uri": "https://localhost:8080/"
        },
        "id": "T5G1h3WUHOmm",
        "outputId": "49912b3b-aa8e-4afa-9228-e8010ff4c32f"
      },
      "execution_count": 11,
      "outputs": [
        {
          "output_type": "stream",
          "name": "stdout",
          "text": [
            "Help on list object:\n",
            "\n",
            "class list(object)\n",
            " |  list(iterable=(), /)\n",
            " |  \n",
            " |  Built-in mutable sequence.\n",
            " |  \n",
            " |  If no argument is given, the constructor creates a new empty list.\n",
            " |  The argument must be an iterable if specified.\n",
            " |  \n",
            " |  Methods defined here:\n",
            " |  \n",
            " |  __add__(self, value, /)\n",
            " |      Return self+value.\n",
            " |  \n",
            " |  __contains__(self, key, /)\n",
            " |      Return key in self.\n",
            " |  \n",
            " |  __delitem__(self, key, /)\n",
            " |      Delete self[key].\n",
            " |  \n",
            " |  __eq__(self, value, /)\n",
            " |      Return self==value.\n",
            " |  \n",
            " |  __ge__(self, value, /)\n",
            " |      Return self>=value.\n",
            " |  \n",
            " |  __getattribute__(self, name, /)\n",
            " |      Return getattr(self, name).\n",
            " |  \n",
            " |  __getitem__(...)\n",
            " |      x.__getitem__(y) <==> x[y]\n",
            " |  \n",
            " |  __gt__(self, value, /)\n",
            " |      Return self>value.\n",
            " |  \n",
            " |  __iadd__(self, value, /)\n",
            " |      Implement self+=value.\n",
            " |  \n",
            " |  __imul__(self, value, /)\n",
            " |      Implement self*=value.\n",
            " |  \n",
            " |  __init__(self, /, *args, **kwargs)\n",
            " |      Initialize self.  See help(type(self)) for accurate signature.\n",
            " |  \n",
            " |  __iter__(self, /)\n",
            " |      Implement iter(self).\n",
            " |  \n",
            " |  __le__(self, value, /)\n",
            " |      Return self<=value.\n",
            " |  \n",
            " |  __len__(self, /)\n",
            " |      Return len(self).\n",
            " |  \n",
            " |  __lt__(self, value, /)\n",
            " |      Return self<value.\n",
            " |  \n",
            " |  __mul__(self, value, /)\n",
            " |      Return self*value.\n",
            " |  \n",
            " |  __ne__(self, value, /)\n",
            " |      Return self!=value.\n",
            " |  \n",
            " |  __repr__(self, /)\n",
            " |      Return repr(self).\n",
            " |  \n",
            " |  __reversed__(self, /)\n",
            " |      Return a reverse iterator over the list.\n",
            " |  \n",
            " |  __rmul__(self, value, /)\n",
            " |      Return value*self.\n",
            " |  \n",
            " |  __setitem__(self, key, value, /)\n",
            " |      Set self[key] to value.\n",
            " |  \n",
            " |  __sizeof__(self, /)\n",
            " |      Return the size of the list in memory, in bytes.\n",
            " |  \n",
            " |  append(self, object, /)\n",
            " |      Append object to the end of the list.\n",
            " |  \n",
            " |  clear(self, /)\n",
            " |      Remove all items from list.\n",
            " |  \n",
            " |  copy(self, /)\n",
            " |      Return a shallow copy of the list.\n",
            " |  \n",
            " |  count(self, value, /)\n",
            " |      Return number of occurrences of value.\n",
            " |  \n",
            " |  extend(self, iterable, /)\n",
            " |      Extend list by appending elements from the iterable.\n",
            " |  \n",
            " |  index(self, value, start=0, stop=9223372036854775807, /)\n",
            " |      Return first index of value.\n",
            " |      \n",
            " |      Raises ValueError if the value is not present.\n",
            " |  \n",
            " |  insert(self, index, object, /)\n",
            " |      Insert object before index.\n",
            " |  \n",
            " |  pop(self, index=-1, /)\n",
            " |      Remove and return item at index (default last).\n",
            " |      \n",
            " |      Raises IndexError if list is empty or index is out of range.\n",
            " |  \n",
            " |  remove(self, value, /)\n",
            " |      Remove first occurrence of value.\n",
            " |      \n",
            " |      Raises ValueError if the value is not present.\n",
            " |  \n",
            " |  reverse(self, /)\n",
            " |      Reverse *IN PLACE*.\n",
            " |  \n",
            " |  sort(self, /, *, key=None, reverse=False)\n",
            " |      Sort the list in ascending order and return None.\n",
            " |      \n",
            " |      The sort is in-place (i.e. the list itself is modified) and stable (i.e. the\n",
            " |      order of two equal elements is maintained).\n",
            " |      \n",
            " |      If a key function is given, apply it once to each list item and sort them,\n",
            " |      ascending or descending, according to their function values.\n",
            " |      \n",
            " |      The reverse flag can be set to sort in descending order.\n",
            " |  \n",
            " |  ----------------------------------------------------------------------\n",
            " |  Class methods defined here:\n",
            " |  \n",
            " |  __class_getitem__(...) from builtins.type\n",
            " |      See PEP 585\n",
            " |  \n",
            " |  ----------------------------------------------------------------------\n",
            " |  Static methods defined here:\n",
            " |  \n",
            " |  __new__(*args, **kwargs) from builtins.type\n",
            " |      Create and return a new object.  See help(type) for accurate signature.\n",
            " |  \n",
            " |  ----------------------------------------------------------------------\n",
            " |  Data and other attributes defined here:\n",
            " |  \n",
            " |  __hash__ = None\n",
            "\n"
          ]
        }
      ]
    },
    {
      "cell_type": "code",
      "source": [
        "# #program\n",
        "# to find out the maximum number of the list\n",
        "mylist=[10,20,4,19,8]\n",
        "max=mylist[0]\n",
        "\n",
        "for i in mylist:\n",
        "  if(i>max):\n",
        "    max=i\n",
        "print(max)\n"
      ],
      "metadata": {
        "colab": {
          "base_uri": "https://localhost:8080/"
        },
        "id": "42fM0vmzTTBA",
        "outputId": "aa695388-4141-4894-9c85-fda14f0eec47"
      },
      "execution_count": 11,
      "outputs": [
        {
          "output_type": "stream",
          "name": "stdout",
          "text": [
            "20\n",
            "10\n"
          ]
        }
      ]
    },
    {
      "cell_type": "code",
      "source": [
        "# #program\n",
        "# to find the second maximum number of a list\n",
        "\n",
        "mylist=[10,25,45,89,65,29,25]\n",
        "max=mylist[0]\n",
        "secondmax=0\n",
        "for i in mylist:\n",
        "  if(i>max):\n",
        "    secondmax=max\n",
        "    max=i\n",
        "  elif (secondmax<i and i!=max):\n",
        "    secondmax=i\n",
        "print(\"The maximum value in the list is :\",max)\n",
        "print(\"The value of second max in the list is : \",secondmax)\n",
        "\n"
      ],
      "metadata": {
        "colab": {
          "base_uri": "https://localhost:8080/"
        },
        "id": "0inc7zxfUVxu",
        "outputId": "16fd5b14-16b9-4905-baaa-7a05e69c6962"
      },
      "execution_count": 21,
      "outputs": [
        {
          "output_type": "stream",
          "name": "stdout",
          "text": [
            "The maximum value in the list is : 89\n",
            "The value of second max in the list is :  65\n"
          ]
        }
      ]
    },
    {
      "cell_type": "code",
      "source": [
        "#practice again of above question\n",
        "mylist=[20,56,89,45,12]\n",
        "max=0\n",
        "secondmax=0\n",
        "for i in mylist:\n",
        "  if(i>max):\n",
        "    secondmax=max\n",
        "    max=i\n",
        "  elif(i>secondmax and i!=max):\n",
        "    secondmax=i\n",
        "print(secondmax)\n",
        "print(max)"
      ],
      "metadata": {
        "colab": {
          "base_uri": "https://localhost:8080/"
        },
        "id": "aJHTpnv9YFKR",
        "outputId": "80d9d5f2-851e-42c0-c08b-e208d8856688"
      },
      "execution_count": 22,
      "outputs": [
        {
          "output_type": "stream",
          "name": "stdout",
          "text": [
            "56\n",
            "89\n"
          ]
        }
      ]
    },
    {
      "cell_type": "code",
      "source": [
        "#q. find is there is any 3 consecutive numbers or not\n",
        "mylist = [10, 20, 4, 19, 8, 5, 6, 7]\n",
        "\n",
        "for i in range(len(mylist) - 2):\n",
        "    if (mylist[i] + 1 == mylist[i + 1] and mylist[i] + 2 == mylist[i + 2]):\n",
        "        print(f\"Consecutive numbers found: {mylist[i]}, {mylist[i + 1]}, {mylist[i + 2]}\")\n",
        "        break\n",
        "else:\n",
        "    print(\"No three consecutive numbers found.\")\n"
      ],
      "metadata": {
        "colab": {
          "base_uri": "https://localhost:8080/"
        },
        "id": "LNNBpLb3YrFF",
        "outputId": "31d415f9-586c-4fca-ae34-b1d4e25205bc"
      },
      "execution_count": 27,
      "outputs": [
        {
          "output_type": "stream",
          "name": "stdout",
          "text": [
            "Consecutive numbers found: 5, 6, 7\n"
          ]
        }
      ]
    },
    {
      "cell_type": "code",
      "source": [
        "# #Q. Find valid parenthesis (a question of leet code)\n",
        "# sequence of parenthesis should be same [({  })]\n",
        "# if it is closing in this way then this is valid\n",
        "# parenthesis otherwise it is not valid parenthesis\n",
        "\n",
        "mylist= ['[', '(', '{','}' ,')',']' ]\n"
      ],
      "metadata": {
        "id": "OwcPml1HcA2g"
      },
      "execution_count": 29,
      "outputs": []
    },
    {
      "cell_type": "code",
      "source": [
        "#bhaiya's method\n",
        "mylist=[]\n",
        "x=0\n",
        "for char in \"[({})]\":\n",
        "  if char in \"[({\":\n",
        "    mylist.append(char)\n",
        "  else:\n",
        "    if(char==\"}\" and mylist.pop()!=\"{\"):\n",
        "      x+=1\n",
        "      break\n",
        "    elif(char==\"]\" and mylist.pop()!=\"[\"):\n",
        "      x+=1\n",
        "      break\n",
        "    elif(char==\")\" and mylist.pop()!=\"(\"):\n",
        "      x+=1\n",
        "      break\n",
        "if(x==1):\n",
        "  print(\"Not a valid parenthesis\")\n",
        "else:\n",
        "  print(\"Valid\")\n",
        "print(mylist)"
      ],
      "metadata": {
        "colab": {
          "base_uri": "https://localhost:8080/"
        },
        "id": "6MBjuu5xcX-Z",
        "outputId": "b692360c-158d-47e1-89aa-a1a7e262e819"
      },
      "execution_count": 36,
      "outputs": [
        {
          "output_type": "stream",
          "name": "stdout",
          "text": [
            "Valid\n",
            "[]\n"
          ]
        }
      ]
    }
  ]
}