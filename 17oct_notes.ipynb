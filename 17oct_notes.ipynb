{
  "nbformat": 4,
  "nbformat_minor": 0,
  "metadata": {
    "colab": {
      "provenance": []
    },
    "kernelspec": {
      "name": "python3",
      "display_name": "Python 3"
    },
    "language_info": {
      "name": "python"
    }
  },
  "cells": [
    {
      "cell_type": "code",
      "execution_count": null,
      "metadata": {
        "colab": {
          "base_uri": "https://localhost:8080/"
        },
        "id": "gBDteVDsatY3",
        "outputId": "f03d9cf3-04a4-4b93-eeac-798b91e97bde"
      },
      "outputs": [
        {
          "output_type": "stream",
          "name": "stdout",
          "text": [
            "- - - - * \n",
            "- - - * * * \n",
            "- - * * * * * \n",
            "- * * * * * * * \n",
            "* * * * * * * * * \n"
          ]
        }
      ],
      "source": [
        "num=5\n",
        "for i in range(1,num+1):\n",
        "  for j in range(i,num):\n",
        "    print(\"-\", end =\" \")\n",
        "\n",
        "  for k in range(1,2*i):\n",
        "    print(\"*\",end=\" \")\n",
        "  print()"
      ]
    },
    {
      "cell_type": "code",
      "source": [
        "num=5\n",
        "for i in range(1,num+1):\n",
        "   for k in range(1,i+1):\n",
        "    if(j==2 or j==4):\n",
        "      print(\"0\",end=\" \")\n",
        "    else:\n",
        "      print(\"1\",end=\" \")\n",
        "   print()"
      ],
      "metadata": {
        "colab": {
          "base_uri": "https://localhost:8080/"
        },
        "id": "fkm-M_eocrg2",
        "outputId": "9e0cf6ed-b371-4d7a-a189-cd97f59b103d"
      },
      "execution_count": null,
      "outputs": [
        {
          "output_type": "stream",
          "name": "stdout",
          "text": [
            "1 \n",
            "1 1 \n",
            "1 1 1 \n",
            "1 1 1 1 \n",
            "1 1 1 1 1 \n"
          ]
        }
      ]
    },
    {
      "cell_type": "code",
      "source": [
        "n=5\n",
        "for i in range(1,n+1):\n",
        "  for j in range(1,i+1):\n",
        "    if((i+j)%2==0):\n",
        "      print(\"1\", end=\" \")\n",
        "    else:\n",
        "      print(\"0\", end= \" \")\n",
        "  print()"
      ],
      "metadata": {
        "colab": {
          "base_uri": "https://localhost:8080/"
        },
        "id": "yw6AcI-8dClZ",
        "outputId": "1d8bd37d-d89a-4d4a-c2be-16bc0ad9d62a"
      },
      "execution_count": null,
      "outputs": [
        {
          "output_type": "stream",
          "name": "stdout",
          "text": [
            "1 \n",
            "0 1 \n",
            "1 0 1 \n",
            "0 1 0 1 \n",
            "1 0 1 0 1 \n"
          ]
        }
      ]
    },
    {
      "cell_type": "code",
      "source": [
        "num=4\n",
        "for i in range(1,num+1):\n",
        "  for j in range(num-i,num):\n",
        "    print(\"-\", end =\" \")\n",
        "\n",
        "  for k in range(num,i,-1):\n",
        "    print(\"*\",end=\" \")\n",
        "  print()"
      ],
      "metadata": {
        "colab": {
          "base_uri": "https://localhost:8080/"
        },
        "id": "fL-k28EVf9tj",
        "outputId": "eb27a7d2-b589-45c3-e7e8-76e7eb15136f"
      },
      "execution_count": null,
      "outputs": [
        {
          "output_type": "stream",
          "name": "stdout",
          "text": [
            "- * * * \n",
            "- - * * \n",
            "- - - * \n"
          ]
        }
      ]
    },
    {
      "cell_type": "code",
      "source": [
        "num=4\n",
        "for i in range(1,num+1):\n",
        "  for j in range(1,i):\n",
        "    print(\"-\", end =\"\")\n",
        "\n",
        "  for k in range(i,5):\n",
        "    print(\"*\",end=\" \")\n",
        "  print()\n"
      ],
      "metadata": {
        "colab": {
          "base_uri": "https://localhost:8080/"
        },
        "id": "Jr7nc9Erg_TV",
        "outputId": "61427c97-3153-4f86-8dc6-ac12c9cff7da"
      },
      "execution_count": null,
      "outputs": [
        {
          "output_type": "stream",
          "name": "stdout",
          "text": [
            "* * * * \n",
            "-* * * \n",
            "--* * \n",
            "---* \n"
          ]
        }
      ]
    },
    {
      "cell_type": "code",
      "source": [
        "num=4\n",
        "for i in range(1,num+1):\n",
        "  for j in range(1,i):\n",
        "    print(\"-\", end =\" \")\n",
        "\n",
        "  for k in range(i,5):\n",
        "    if(i==k):\n",
        "      print(\"1\",end=\" \")\n",
        "    if((k==i+1)):\n",
        "      print(\"2\", end=\" \")\n",
        "    if(k==i+2):\n",
        "      print(\"3\",end=\" \")\n",
        "    if(k==i+3):\n",
        "      print(\"4\",end=\" \")\n",
        "\n",
        "  print()\n"
      ],
      "metadata": {
        "colab": {
          "base_uri": "https://localhost:8080/"
        },
        "id": "GkLnIgzShgwo",
        "outputId": "4102de0e-d621-4003-8440-740c1669f5e8"
      },
      "execution_count": null,
      "outputs": [
        {
          "output_type": "stream",
          "name": "stdout",
          "text": [
            "1 2 3 4 \n",
            "- 1 2 3 \n",
            "- - 1 2 \n",
            "- - - 1 \n"
          ]
        }
      ]
    },
    {
      "cell_type": "code",
      "source": [
        "num=4\n",
        "for i in range(1,num+1):\n",
        "  for j in range(i+1,5):\n",
        "    print(\"-\", end =\"\")\n",
        "\n",
        "  for k in range(1,i+1):\n",
        "    print(\"*\",end=\" \")\n",
        "  print()\n"
      ],
      "metadata": {
        "colab": {
          "base_uri": "https://localhost:8080/"
        },
        "id": "Fi3_6fJQiwfK",
        "outputId": "eef3ba3e-d17a-4e84-e4fe-f9271aac6994"
      },
      "execution_count": null,
      "outputs": [
        {
          "output_type": "stream",
          "name": "stdout",
          "text": [
            "---* \n",
            "--* * \n",
            "-* * * \n",
            "* * * * \n"
          ]
        }
      ]
    },
    {
      "cell_type": "code",
      "source": [
        "num=6\n",
        "for i in range(1,num+1):\n",
        "  for j in range(1,i):\n",
        "    print(\" \", end =\"\")\n",
        "\n",
        "  for k in range(i,7):\n",
        "    print(k,end=\" \")\n",
        "  print()\n"
      ],
      "metadata": {
        "colab": {
          "base_uri": "https://localhost:8080/"
        },
        "id": "QBm73PJwjjYx",
        "outputId": "4a769c9c-b20e-467f-9f8a-4aa0cc62afd1"
      },
      "execution_count": null,
      "outputs": [
        {
          "output_type": "stream",
          "name": "stdout",
          "text": [
            "1 2 3 4 5 6 \n",
            " 2 3 4 5 6 \n",
            "  3 4 5 6 \n",
            "   4 5 6 \n",
            "    5 6 \n",
            "     6 \n"
          ]
        }
      ]
    },
    {
      "cell_type": "code",
      "source": [
        "num=6\n",
        "for i in range(1,num+1):\n",
        "  for j in range(1,i):\n",
        "    print(\" \", end =\"\")\n",
        "\n",
        "  for k in range(i,7):\n",
        "    print(num-k,end=\" \")\n",
        "  print()\n"
      ],
      "metadata": {
        "colab": {
          "base_uri": "https://localhost:8080/"
        },
        "id": "wZKPZJivls4O",
        "outputId": "64835079-8163-41db-f51e-5238913dbab5"
      },
      "execution_count": null,
      "outputs": [
        {
          "output_type": "stream",
          "name": "stdout",
          "text": [
            "5 4 3 2 1 0 \n",
            " 4 3 2 1 0 \n",
            "  3 2 1 0 \n",
            "   2 1 0 \n",
            "    1 0 \n",
            "     0 \n"
          ]
        }
      ]
    },
    {
      "cell_type": "code",
      "source": [
        "n=4\n",
        "for i in range(1,n+1):\n",
        "  for j in range(1,i):\n",
        "    print(j+1,end=\" \")\n",
        "  print()"
      ],
      "metadata": {
        "colab": {
          "base_uri": "https://localhost:8080/"
        },
        "id": "my087khSl9ff",
        "outputId": "5e8344e4-13c4-4fb1-a9f8-cc861fbbfa32"
      },
      "execution_count": null,
      "outputs": [
        {
          "output_type": "stream",
          "name": "stdout",
          "text": [
            "\n",
            "2 \n",
            "2 3 \n",
            "2 3 4 \n"
          ]
        }
      ]
    },
    {
      "cell_type": "code",
      "source": [
        "num=5\n",
        "for i in range(1,num+1):\n",
        "  for j in range(i,num):\n",
        "    print(\" \", end =\" \")\n",
        "  for k in range(i,1,-1):\n",
        "    print(k-1,end=\" \")\n",
        "  for l in range(1,i-1):\n",
        "    print(l+1,end=\" \")\n",
        "  print()"
      ],
      "metadata": {
        "colab": {
          "base_uri": "https://localhost:8080/"
        },
        "id": "L31xxja4nyXQ",
        "outputId": "96cce517-dbab-45de-8190-98f0c9051ae5"
      },
      "execution_count": null,
      "outputs": [
        {
          "output_type": "stream",
          "name": "stdout",
          "text": [
            "        \n",
            "      1 \n",
            "    2 1 2 \n",
            "  3 2 1 2 3 \n",
            "4 3 2 1 2 3 4 \n"
          ]
        }
      ]
    },
    {
      "cell_type": "code",
      "source": [
        "num=5\n",
        "for i in range(1,num+1):\n",
        "  for j in range(i,num):\n",
        "    print(\" \", end =\" \")\n",
        "\n",
        "  for k in range(1,i):\n",
        "    if(i==5 or i==j):\n",
        "      print(\"*\",end=\" \")\n",
        "  print()"
      ],
      "metadata": {
        "colab": {
          "base_uri": "https://localhost:8080/"
        },
        "id": "UgdiwNxDrgyy",
        "outputId": "ccd6d6b5-0677-4d63-d24a-6ca866180fd5"
      },
      "execution_count": null,
      "outputs": [
        {
          "output_type": "stream",
          "name": "stdout",
          "text": [
            "        \n",
            "      \n",
            "    \n",
            "  * * * \n",
            "* * * * \n"
          ]
        }
      ]
    },
    {
      "cell_type": "code",
      "source": [
        "num=5\n",
        "for i in range(2,num+1):\n",
        "  for j in range(i,num):\n",
        "    print(\" \", end =\" \")\n",
        "  for k in range(i,1,-1):\n",
        "    if(k==6 or i==k or i==5 or i==k+3):\n",
        "      print(\"*\",end=\" \")\n",
        "  for l in range(1,i):\n",
        "    if(i==5 or l==i):\n",
        "      print(\"*\",end=\" \")\n",
        "\n",
        "  print()"
      ],
      "metadata": {
        "colab": {
          "base_uri": "https://localhost:8080/"
        },
        "id": "fGrgbrRHsuuk",
        "outputId": "bc1c7268-a7cf-4483-e2f1-103e99840b9c"
      },
      "execution_count": null,
      "outputs": [
        {
          "output_type": "stream",
          "name": "stdout",
          "text": [
            "      * * \n",
            "    * * \n",
            "  * * \n",
            "* * * * * * * * \n"
          ]
        }
      ]
    },
    {
      "cell_type": "code",
      "source": [
        "num=5\n",
        "for i in range(1,num+1):\n",
        "  for j in range(i,num):\n",
        "    print(\" \", end =\" \")\n",
        "  for k in range(i,2*i):\n",
        "    if(i==num or k==1 or k==2*i-1):\n",
        "      print(\"*\",end=\"   \")\n",
        "    else:\n",
        "      print(\" \",end)\n",
        "\n",
        "  print()"
      ],
      "metadata": {
        "colab": {
          "base_uri": "https://localhost:8080/"
        },
        "id": "e-KXMYwjxOJT",
        "outputId": "65c85c08-18c5-4885-a860-74d2fa804e27"
      },
      "execution_count": 2,
      "outputs": [
        {
          "output_type": "stream",
          "name": "stdout",
          "text": [
            "        *   \n",
            "      *   \n",
            "    *   \n",
            "  *   \n",
            "*   *   *   *   *   \n"
          ]
        }
      ]
    },
    {
      "cell_type": "code",
      "source": [
        "num = 5\n",
        "for i in range(1, num + 1):\n",
        "    for j in range(i, num):\n",
        "        print(\" \", end=\" \")\n",
        "    for k in range(1, 2 * i):\n",
        "        if (k==1 or k==2*i-1 or i==num):\n",
        "            print(\"*\", end=\" \")\n",
        "        else:\n",
        "            print(\" \", end=\" \")\n",
        "    print()\n"
      ],
      "metadata": {
        "colab": {
          "base_uri": "https://localhost:8080/"
        },
        "id": "E1r-VYyinif_",
        "outputId": "04e44699-48c6-4365-c3d3-520216cd7b49"
      },
      "execution_count": null,
      "outputs": [
        {
          "output_type": "stream",
          "name": "stdout",
          "text": [
            "        * \n",
            "      *   * \n",
            "    *       * \n",
            "  *           * \n",
            "* * * * * * * * * \n"
          ]
        }
      ]
    }
  ]
}